{
  "cells": [
    {
      "cell_type": "markdown",
      "metadata": {
        "id": "If2patbIMrJC"
      },
      "source": [
        "# <font color='Red'>Bibliotecas</font>"
      ]
    },
    {
      "cell_type": "code",
      "execution_count": null,
      "metadata": {
        "id": "A9C4iFTGMoK5"
      },
      "outputs": [],
      "source": [
        "# -----------------------------\n",
        "# Bibliotecas estándar de Python\n",
        "# -----------------------------\n",
        "import itertools\n",
        "import random\n",
        "import time\n",
        "import warnings\n",
        "from pathlib import Path\n",
        "from sys import intern\n",
        "\n",
        "# -----------------------------\n",
        "# Bibliotecas para análisis y manipulación de datos\n",
        "# -----------------------------\n",
        "import numpy as np\n",
        "import pandas as pd\n",
        "from scipy import stats\n",
        "from scipy.stats import shapiro\n",
        "import scipy.cluster.hierarchy as sch\n",
        "\n",
        "# -----------------------------\n",
        "# Bibliotecas para visualización de datos\n",
        "# -----------------------------\n",
        "import matplotlib.pyplot as plt\n",
        "import seaborn as sns\n",
        "import plotly.express as px\n",
        "import plotly.graph_objects as go\n",
        "\n",
        "# -----------------------------\n",
        "# Bibliotecas para Machine Learning\n",
        "# -----------------------------\n",
        "from sklearn import set_config\n",
        "from sklearn.compose import ColumnTransformer, make_column_transformer\n",
        "from sklearn.dummy import DummyClassifier\n",
        "from sklearn.ensemble import (\n",
        "    AdaBoostClassifier,\n",
        "    BaggingClassifier,\n",
        "    GradientBoostingClassifier,\n",
        "    HistGradientBoostingClassifier,\n",
        "    IsolationForest,\n",
        "    RandomForestClassifier,\n",
        "    VotingClassifier\n",
        ")\n",
        "from sklearn.feature_selection import RFE, RFECV\n",
        "from sklearn.decomposition import PCA\n",
        "from sklearn.impute import SimpleImputer\n",
        "from sklearn.linear_model import LogisticRegression\n",
        "from sklearn.metrics import (\n",
        "    accuracy_score,\n",
        "    classification_report,\n",
        "    confusion_matrix,\n",
        "    f1_score,\n",
        "    fbeta_score,\n",
        "    get_scorer,\n",
        "    precision_score,\n",
        "    recall_score,\n",
        "    roc_auc_score,\n",
        "    roc_curve,\n",
        "    auc\n",
        ")\n",
        "from sklearn.model_selection import (\n",
        "    GridSearchCV,\n",
        "    KFold,\n",
        "    RandomizedSearchCV,\n",
        "    RepeatedStratifiedKFold,\n",
        "    StratifiedKFold,\n",
        "    cross_val_score,\n",
        "    learning_curve,\n",
        "    train_test_split,\n",
        "    validation_curve\n",
        ")\n",
        "from sklearn.naive_bayes import GaussianNB\n",
        "from sklearn.neighbors import KNeighborsClassifier\n",
        "from sklearn.pipeline import Pipeline, make_pipeline\n",
        "from sklearn.preprocessing import (\n",
        "    KBinsDiscretizer,\n",
        "    LabelEncoder,\n",
        "    OneHotEncoder,\n",
        "    OrdinalEncoder,\n",
        "    RobustScaler,\n",
        "    StandardScaler\n",
        ")\n",
        "from sklearn.svm import SVC\n",
        "from sklearn.tree import DecisionTreeClassifier, plot_tree\n",
        "\n",
        "# -----------------------------\n",
        "# Manejo de rutas de archivos\n",
        "# -----------------------------\n",
        "from google.colab import drive  # Conectar Google Drive\n",
        "from google.colab import files\n",
        "# -----------------------------\n",
        "# Configuración de aleatoriedad para reproducibilidad\n",
        "# -----------------------------\n",
        "random_state = 42\n",
        "\n",
        "# -----------------------------\n",
        "# Otras bibliotecas\n",
        "# -----------------------------\n",
        "import joblib\n",
        "import zipfile\n",
        "import pickle\n",
        "import io"
      ]
    },
    {
      "cell_type": "markdown",
      "metadata": {
        "id": "yitESg2FM1k1"
      },
      "source": [
        "# <font color='Red'> Datos</font>"
      ]
    },
    {
      "cell_type": "code",
      "execution_count": null,
      "metadata": {
        "colab": {
          "base_uri": "https://localhost:8080/"
        },
        "id": "u5FVmaXNM3-o",
        "outputId": "a5095901-301a-493e-d1c4-3638ef573521"
      },
      "outputs": [
        {
          "name": "stdout",
          "output_type": "stream",
          "text": [
            "Mounted at /content/drive\n",
            "Archivo cargado exitosamente.\n",
            "El conjunto de datos tiene 820834 filas y 68 columnas.\n"
          ]
        }
      ],
      "source": [
        "from google.colab import drive\n",
        "import pandas as pd\n",
        "\n",
        "# Montar Google Drive\n",
        "drive.mount('/content/drive')\n",
        "\n",
        "# Definir la ruta del archivo en \"Mi unidad\"\n",
        "path = \"/content/drive/My Drive/X-IIoTID dataset.csv\"  # Ruta de acceso drive\n",
        "\n",
        "# path = Path(\"..\") / \"input\" / \"dataset\" / \"/content/X-IIoTID dataset.csv\"  # Ruta de acceso local\n",
        "\n",
        "# Cargar el archivo CSV\n",
        "try:\n",
        "    df = pd.read_csv(path, low_memory=False)  # low_memory=False para evitar problemas de tipos mixtos\n",
        "    print(\"Archivo cargado exitosamente.\")\n",
        "    print(f\"El conjunto de datos tiene {df.shape[0]} filas y {df.shape[1]} columnas.\")\n",
        "except FileNotFoundError:\n",
        "    print(\"El archivo no se encontró en la ruta especificada. Verifica que la ruta sea correcta.\")\n",
        "except Exception as e:\n",
        "    print(f\"Ocurrió un error al cargar el archivo: {e}\")\n"
      ]
    },
    {
      "cell_type": "markdown",
      "metadata": {
        "id": "seLgmjs_eZb5"
      },
      "source": [
        "## <font color='Red'>Particion de datos Train, Validacion y Test</font>"
      ]
    },
    {
      "cell_type": "code",
      "execution_count": null,
      "metadata": {
        "colab": {
          "base_uri": "https://localhost:8080/"
        },
        "id": "4wulHZwneYYX",
        "outputId": "defcb0e5-a0e7-4849-e647-e46f255743bd"
      },
      "outputs": [
        {
          "name": "stdout",
          "output_type": "stream",
          "text": [
            "Forma de X e y_class3: (820834, 65) (820834,)\n"
          ]
        },
        {
          "name": "stderr",
          "output_type": "stream",
          "text": [
            "<ipython-input-3-a0e9266c0202>:3: FutureWarning: Downcasting behavior in `replace` is deprecated and will be removed in a future version. To retain the old behavior, explicitly call `result.infer_objects(copy=False)`. To opt-in to the future behavior, set `pd.set_option('future.no_silent_downcasting', True)`\n",
            "  y_class3 = df['class3'].replace({'Normal': 0, 'Attack': 1})\n"
          ]
        }
      ],
      "source": [
        "# Definir X e y\n",
        "X = df.drop(columns=['class1', 'class2', 'class3'])\n",
        "y_class3 = df['class3'].replace({'Normal': 0, 'Attack': 1})\n",
        "y_class2 = df['class2']\n",
        "y_class1 = df['class1']\n",
        "\n",
        "print(\"Forma de X e y_class3:\", X.shape, y_class3.shape)"
      ]
    },
    {
      "cell_type": "code",
      "execution_count": null,
      "metadata": {
        "colab": {
          "base_uri": "https://localhost:8080/"
        },
        "id": "q6K8c9VCegEs",
        "outputId": "f572db70-fc8f-4b78-dc3b-51eb3c8f3a9a"
      },
      "outputs": [
        {
          "name": "stdout",
          "output_type": "stream",
          "text": [
            "        class3          class2                  class1\n",
            "0       Attack  Reconnaissance  Scanning_vulnerability\n",
            "1       Normal          Normal                  Normal\n",
            "2       Normal          Normal                  Normal\n",
            "3       Normal          Normal                  Normal\n",
            "4       Normal          Normal                  Normal\n",
            "...        ...             ...                     ...\n",
            "820829  Attack  Reconnaissance        Generic_scanning\n",
            "820830  Normal          Normal                  Normal\n",
            "820831  Normal          Normal                  Normal\n",
            "820832  Attack  Reconnaissance        Generic_scanning\n",
            "820833  Normal          Normal                  Normal\n",
            "\n",
            "[820834 rows x 3 columns]\n"
          ]
        }
      ],
      "source": [
        "clases = df[['class3', 'class2', 'class1']]\n",
        "print(clases)"
      ]
    },
    {
      "cell_type": "code",
      "execution_count": null,
      "metadata": {
        "id": "odPH-H-feiLl"
      },
      "outputs": [],
      "source": [
        "# Primera división: separa un conjunto de entrenamiento y otro de prueba/validación\n",
        "X_train, X_temp, y_train_class3, y_temp_class3, y_train_class2, y_temp_class2, y_train_class1, y_temp_class1 = train_test_split(\n",
        "    X,\n",
        "    y_class3,\n",
        "    y_class2,\n",
        "    y_class1,\n",
        "    test_size=0.3,\n",
        "    random_state=random_state,\n",
        "    stratify=y_class3\n",
        ")\n",
        "\n",
        "# Segunda división: separa validación y prueba\n",
        "X_val, X_test, y_val_class3, y_test_class3, y_val_class2, y_test_class2, y_val_class1, y_test_class1 = train_test_split(\n",
        "    X_temp,\n",
        "    y_temp_class3,\n",
        "    y_temp_class2,\n",
        "    y_temp_class1,\n",
        "    test_size=0.5,\n",
        "    random_state=random_state,\n",
        "    stratify=y_temp_class3\n",
        ")"
      ]
    },
    {
      "cell_type": "code",
      "execution_count": null,
      "metadata": {
        "id": "H6kzxViiekqA"
      },
      "outputs": [],
      "source": [
        "# Resetear índices para evitar desalineaciones\n",
        "X_train = X_train.reset_index(drop=True)\n",
        "X_val = X_val.reset_index(drop=True)\n",
        "X_test = X_test.reset_index(drop=True)  # Opcional\n",
        "\n",
        "y_train_class3 = y_train_class3.reset_index(drop=True)\n",
        "y_val_class3 = y_val_class3.reset_index(drop=True)\n",
        "y_test_class3 = y_test_class3.reset_index(drop=True)  # Opcional\n",
        "\n",
        "y_train_class2 = y_train_class2.reset_index(drop=True)\n",
        "y_val_class2 = y_val_class2.reset_index(drop=True)\n",
        "y_test_class2 = y_test_class2.reset_index(drop=True)  # Opcional\n",
        "\n",
        "y_train_class1 = y_train_class1.reset_index(drop=True)\n",
        "y_val_class1 = y_val_class1.reset_index(drop=True)\n",
        "y_test_class1 = y_test_class1.reset_index(drop=True)  # Opcional"
      ]
    },
    {
      "cell_type": "markdown",
      "metadata": {
        "id": "jWibU6Kbexce"
      },
      "source": [
        "## <font color='Red'>Preprocesamiento</font>"
      ]
    },
    {
      "cell_type": "markdown",
      "metadata": {
        "id": "vxvVpBewnVrT"
      },
      "source": [
        "### <font color='Red'>Funciones para el preprocesamiento</font>"
      ]
    },
    {
      "cell_type": "code",
      "execution_count": null,
      "metadata": {
        "id": "z2d0JnWfM71t"
      },
      "outputs": [],
      "source": [
        "import pandas as pd\n",
        "import ipaddress\n",
        "\n",
        "def fix_dytype(df, umbral_numerico=0.7):\n",
        "    object_cols = df.select_dtypes(include=['object']).columns\n",
        "    int_cols = df.select_dtypes(include=['int64']).columns\n",
        "\n",
        "    for col in object_cols:\n",
        "        unique_values = set(df[col].unique())\n",
        "        if unique_values.issubset({'true', 'false'}):\n",
        "            df[col] = df[col].map({'true': True, 'false': False})\n",
        "        elif len(unique_values) == 3 and 'true' in unique_values:\n",
        "            print(f\"Columna {col} convertida a booleana, se han borrado {df[col].isna().sum()} filas que contenían 'nan'.\")\n",
        "            df.dropna(subset=[col], inplace=True)\n",
        "            df[col] = df[col].map({'true': True, 'false': False})\n",
        "        else:\n",
        "            converted = pd.to_numeric(df[col], errors='coerce')\n",
        "            if converted.notna().mean() > umbral_numerico:\n",
        "                df[col] = converted.astype(float)\n",
        "\n",
        "    for col in int_cols:\n",
        "        if set(df[col].unique()).issubset({0, 1}):\n",
        "            df[col] = df[col].astype(bool)\n",
        "\n",
        "    return df\n",
        "\n",
        "def clasificar_ip(ip):\n",
        "    \"\"\"Clasifica una IP como privada/pública y determina su clase.\"\"\"\n",
        "    try:\n",
        "        ip_obj = ipaddress.ip_address(ip)\n",
        "        es_local = 1 if ip_obj.is_private else 0\n",
        "\n",
        "        if isinstance(ip_obj, ipaddress.IPv4Address):\n",
        "            primer_octeto = int(ip.split(\".\")[0])\n",
        "            if 1 <= primer_octeto <= 126:\n",
        "                clase = \"A\"\n",
        "            elif 128 <= primer_octeto <= 191:\n",
        "                clase = \"B\"\n",
        "            elif 192 <= primer_octeto <= 223:\n",
        "                clase = \"C\"\n",
        "            elif 224 <= primer_octeto <= 239:\n",
        "                clase = \"D\"\n",
        "            elif 240 <= primer_octeto <= 255:\n",
        "                clase = \"E\"\n",
        "            else:\n",
        "                clase = \"Desconocida\"\n",
        "        else:\n",
        "            clase = \"IPv6\"\n",
        "\n",
        "        return es_local, clase\n",
        "    except ValueError:\n",
        "        return None, None\n",
        "\n",
        "servicios_industriales = [\"modbus\", \"mqtt\", \"coap\"]\n",
        "\n",
        "def tipo_servicio(series):\n",
        "    \"\"\"Crea una columna indicando si el servicio es industrial.\"\"\"\n",
        "    return series.apply(lambda x: 1 if x in servicios_industriales else 0)\n",
        "\n",
        "def delete_ip_port(df):\n",
        "    \"\"\"Elimina las columnas 'ip' y 'port'.\"\"\"\n",
        "    return df.drop(columns=['Scr_IP', 'Scr_port', 'Des_IP', 'Des_port'])\n"
      ]
    },
    {
      "cell_type": "code",
      "execution_count": null,
      "metadata": {
        "id": "TjtHHtcCm-B8"
      },
      "outputs": [],
      "source": [
        "import pandas as pd\n",
        "import numpy as np\n",
        "\n",
        "# Reemplazos comunes de valores\n",
        "common_replacements = {\n",
        "    '-': np.nan,\n",
        "    '?': np.nan,\n",
        "    'nan': np.nan,\n",
        "}\n",
        "\n",
        "def replace_common_values(df):\n",
        "    \"\"\"Reemplaza valores comunes como '-', '?' y 'nan' por NaN.\"\"\"\n",
        "    for col in df.select_dtypes(include=['object']).columns:\n",
        "        df[col] = df[col].replace(common_replacements)\n",
        "    return df\n",
        "\n",
        "def fix_mayus(df):\n",
        "    for col in df.select_dtypes(include=['object']).columns:\n",
        "        df[col] = df[col].str.lower()\n",
        "    return df\n"
      ]
    },
    {
      "cell_type": "markdown",
      "metadata": {
        "id": "P8fQNtJlnXCQ"
      },
      "source": [
        "### <font color='Red'>Preprocesamiento Train, Validacion</font>"
      ]
    },
    {
      "cell_type": "markdown",
      "metadata": {
        "id": "yhr2uXvhBbv_"
      },
      "source": [
        "#### <font color='Red'>Correcion de formato</font>"
      ]
    },
    {
      "cell_type": "code",
      "execution_count": null,
      "metadata": {
        "colab": {
          "base_uri": "https://localhost:8080/"
        },
        "id": "YLHE2wYCNETF",
        "outputId": "c41566e8-933e-4dfa-e23c-ecd9f84a5285"
      },
      "outputs": [
        {
          "name": "stdout",
          "output_type": "stream",
          "text": [
            "Columna anomaly_alert convertida a booleana, se han borrado 110 filas que contenían 'nan'.\n",
            "Columna anomaly_alert convertida a booleana, se han borrado 19 filas que contenían 'nan'.\n"
          ]
        }
      ],
      "source": [
        "X_train = replace_common_values(X_train)\n",
        "X_train = fix_mayus(X_train)\n",
        "X_train = fix_dytype(X_train)\n",
        "X_train = delete_ip_port(X_train)\n",
        "\n",
        "y_train_class3 = y_train_class3.loc[X_train.index]\n",
        "y_train_class2 = y_train_class2.loc[X_train.index]\n",
        "y_train_class1 = y_train_class1.loc[X_train.index]\n",
        "\n",
        "X_val = replace_common_values(X_val)\n",
        "X_val = fix_mayus(X_val)\n",
        "X_val = fix_dytype(X_val)\n",
        "X_val = delete_ip_port(X_val)\n",
        "\n",
        "y_val_class3 = y_val_class3.loc[X_val.index]\n",
        "y_val_class2 = y_val_class2.loc[X_val.index]\n",
        "y_val_class1 = y_val_class1.loc[X_val.index]"
      ]
    },
    {
      "cell_type": "code",
      "execution_count": null,
      "metadata": {
        "colab": {
          "base_uri": "https://localhost:8080/"
        },
        "id": "Dvhkxt_Txx0_",
        "outputId": "6c8c152b-1e92-4752-ee69-b82550d46af4"
      },
      "outputs": [
        {
          "name": "stdout",
          "output_type": "stream",
          "text": [
            "Instancias completas (Train): 416933\n",
            "Instancias incompletas (Train): 157540\n"
          ]
        }
      ],
      "source": [
        "# Añadir la columna 'Instancia_completa'\n",
        "X_train['Instancia_completa'] = X_train.notnull().all(axis=1).astype(int)\n",
        "X_val['Instancia_completa'] = X_val.notnull().all(axis=1).astype(int)\n",
        "\n",
        "# Contar las instancias completas e incompletas\n",
        "completas = X_train['Instancia_completa'].sum()\n",
        "incompletas = len(X_train) - completas\n",
        "\n",
        "print(f\"Instancias completas (Train): {completas}\")\n",
        "print(f\"Instancias incompletas (Train): {incompletas}\")"
      ]
    },
    {
      "cell_type": "code",
      "execution_count": null,
      "metadata": {
        "id": "lrL1HdjRNGjG"
      },
      "outputs": [],
      "source": [
        "# Asignar más peso a las instancias completas (por ejemplo, peso 2 si es completa, 1 si no)\n",
        "sample_weight_train = X_train['Instancia_completa'].replace({1: 3, 0: 1})\n",
        "sample_weight_val = X_val['Instancia_completa'].replace({1: 3, 0: 1})"
      ]
    },
    {
      "cell_type": "code",
      "execution_count": null,
      "metadata": {
        "colab": {
          "base_uri": "https://localhost:8080/"
        },
        "id": "egznmMW22pHh",
        "outputId": "68ae0e52-c5af-4751-c865-e1f3a8f82176"
      },
      "outputs": [
        {
          "name": "stdout",
          "output_type": "stream",
          "text": [
            "['Bad_checksum', 'is_SYN_with_RST']\n"
          ]
        }
      ],
      "source": [
        "# Filtrar columnas excluyendo 'Timestamp', 'Date' y las de tipo objeto\n",
        "columnas_sin_timestamp = [col for col in X_train.columns\n",
        "                          if col not in ['Timestamp', 'Date'] and X_train[col].dtypes != 'object']\n",
        "\n",
        "# Calcular la varianza de cada columna (excluyendo las filtradas)\n",
        "varianzas = X_train[columnas_sin_timestamp].var()\n",
        "\n",
        "# Identificar columnas con varianza igual a cero\n",
        "variables_con_varianza_cero = [col for col, varianza in varianzas.items() if varianza == 0]\n",
        "\n",
        "# Imprimir las columnas con varianza cero\n",
        "print(variables_con_varianza_cero)"
      ]
    },
    {
      "cell_type": "code",
      "execution_count": null,
      "metadata": {
        "id": "15Y-AtnJ3y8R"
      },
      "outputs": [],
      "source": [
        "X_train = X_train.drop(columns=['Date','Timestamp'], errors='ignore')\n",
        "X_train = X_train.drop(columns=variables_con_varianza_cero)\n",
        "X_train = X_train.drop(columns=['Instancia_completa'])\n",
        "\n",
        "X_val = X_val.drop(columns=['Date','Timestamp'], errors='ignore')\n",
        "X_val = X_val.drop(columns=variables_con_varianza_cero)\n",
        "X_val = X_val.drop(columns=['Instancia_completa'])"
      ]
    },
    {
      "cell_type": "markdown",
      "metadata": {
        "id": "GqDfuebFje9E"
      },
      "source": [
        "##### <font color='Red'>Reduccion de la dimensionalidad de caracteristicas mediante la correlacion</font>"
      ]
    },
    {
      "cell_type": "code",
      "execution_count": null,
      "metadata": {
        "colab": {
          "base_uri": "https://localhost:8080/"
        },
        "id": "cy3Barb-XNWQ",
        "outputId": "f7316336-d1a0-4bc1-f38b-41fa3ebb0a97"
      },
      "outputs": [
        {
          "data": {
            "text/html": [
              "<html>\n",
              "<head><meta charset=\"utf-8\" /></head>\n",
              "<body>\n",
              "    <div>            <script src=\"https://cdnjs.cloudflare.com/ajax/libs/mathjax/2.7.5/MathJax.js?config=TeX-AMS-MML_SVG\"></script><script type=\"text/javascript\">if (window.MathJax && window.MathJax.Hub && window.MathJax.Hub.Config) {window.MathJax.Hub.Config({SVG: {font: \"STIX-Web\"}});}</script>                <script type=\"text/javascript\">window.PlotlyConfig = {MathJaxConfig: 'local'};</script>\n",
              "        <script charset=\"utf-8\" src=\"https://cdn.plot.ly/plotly-2.35.2.min.js\"></script>                <div id=\"3d42e758-5dae-4480-8960-3df73af529f2\" class=\"plotly-graph-div\" style=\"height:525px; width:100%;\"></div>            <script type=\"text/javascript\">                                    window.PLOTLYENV=window.PLOTLYENV || {};                                    if (document.getElementById(\"3d42e758-5dae-4480-8960-3df73af529f2\")) {                    Plotly.newPlot(                        \"3d42e758-5dae-4480-8960-3df73af529f2\",                        [{\"coloraxis\":\"coloraxis\",\"name\":\"0\",\"x\":[\"Duration\",\"Scr_bytes\",\"Des_bytes\",\"missed_bytes\",\"Scr_pkts\",\"Scr_ip_bytes\",\"Des_pkts\",\"Des_ip_bytes\",\"total_bytes\",\"total_packet\",\"paket_rate\",\"byte_rate\",\"Scr_packts_ratio\",\"Des_pkts_ratio\",\"Scr_bytes_ratio\",\"Des_bytes_ratio\",\"Avg_user_time\",\"Std_user_time\",\"Avg_nice_time\",\"Std_nice_time\",\"Avg_system_time\",\"Std_system_time\",\"Avg_iowait_time\",\"Std_iowait_time\",\"Avg_ideal_time\",\"Std_ideal_time\",\"Avg_tps\",\"Std_tps\",\"Avg_rtps\",\"Std_rtps\",\"Avg_wtps\",\"Std_wtps\",\"Avg_ldavg_1\",\"Std_ldavg_1\",\"Avg_kbmemused\",\"Std_kbmemused\",\"Avg_num_Proc\\u002fs\",\"Std_num_proc\\u002fs\",\"Avg_num_cswch\\u002fs\",\"std_num_cswch\\u002fs\",\"OSSEC_alert_level\"],\"y\":[\"Duration\",\"Scr_bytes\",\"Des_bytes\",\"missed_bytes\",\"Scr_pkts\",\"Scr_ip_bytes\",\"Des_pkts\",\"Des_ip_bytes\",\"total_bytes\",\"total_packet\",\"paket_rate\",\"byte_rate\",\"Scr_packts_ratio\",\"Des_pkts_ratio\",\"Scr_bytes_ratio\",\"Des_bytes_ratio\",\"Avg_user_time\",\"Std_user_time\",\"Avg_nice_time\",\"Std_nice_time\",\"Avg_system_time\",\"Std_system_time\",\"Avg_iowait_time\",\"Std_iowait_time\",\"Avg_ideal_time\",\"Std_ideal_time\",\"Avg_tps\",\"Std_tps\",\"Avg_rtps\",\"Std_rtps\",\"Avg_wtps\",\"Std_wtps\",\"Avg_ldavg_1\",\"Std_ldavg_1\",\"Avg_kbmemused\",\"Std_kbmemused\",\"Avg_num_Proc\\u002fs\",\"Std_num_proc\\u002fs\",\"Avg_num_cswch\\u002fs\",\"std_num_cswch\\u002fs\",\"OSSEC_alert_level\"],\"z\":[[1.0,0.23419726357715445,0.02553527694587981,0.0007848406805676071,0.24456166005600477,0.269285552899791,0.14966782097561154,0.03138089539465287,0.0396163300173507,0.20104526794116725,-0.0274873748512412,-0.024439787650897184,0.04652640752464542,-0.04652640752463271,0.043996291336146326,-0.043996291336148255,0.06865950904293942,0.015445574814098192,-0.010126133204888086,0.006092449785436461,0.04919513877127401,0.03846841320213852,0.02108272095670079,0.010456230733399224,-0.06436948231612304,0.01558711481818556,0.004032350004527441,0.0060539363051698315,0.006035236369722657,0.004066000995819691,-0.00696856263432405,-0.000808763174668328,0.03624098973279388,0.000019434633277782584,-0.08466176897309875,0.018820106598225667,-0.00022925632718926052,-0.00017393312304473855,0.07480154936706492,0.057656812127913244,-0.01800825430198682],[0.23419726357715445,1.0,0.4571717294650343,0.019617665350732366,0.5636113098764616,0.8042038017110623,0.5670399724053763,0.47423828444463384,0.4975714719703315,0.5732413777733021,-0.07439759444032858,-0.06420912304204107,-0.15100778844683505,0.15100778844701082,-0.18949102336648754,0.18949102336647597,-0.02564004982954874,0.015444873002306748,-0.027051391724626592,0.0036732293695082973,-0.024619416690755867,-0.00929010003390342,0.00034375673829281937,0.0020725409720591193,0.028643528126490594,0.012556469266210242,0.00035874945460841347,0.0017156336055047805,0.002255819047510759,0.002202454346831175,-0.007138433142117064,-0.0011357065513941701,-0.02712921289753658,0.0008737007889873576,-0.00952461120449165,0.0037493497319350767,0.0006492087347369364,0.00046956105766393375,-0.03653822052249931,-0.02673797441179142,-0.03408424012320423],[0.02553527694587981,0.4571717294650343,1.0,0.02743614297959501,0.12985324506207951,0.26679826154706254,0.2294108975207711,0.9913691297741626,0.9962198218534727,0.18094780590030363,-0.05438070545122305,-0.04558433835453128,-0.1847396082397067,0.18473960823977875,-0.3177892947649072,0.31778929476489376,-0.04907144933550999,0.0288796820971142,-0.018815162033486047,0.011582515188133384,-0.04848457417597906,-0.020469719299188456,-0.0015768927366972092,0.002964477493832825,0.05085522392403467,0.0235187494826997,0.0020293672537652894,0.0037183207033208037,0.0034336832301465805,0.004282116382409413,-0.0050519214915017594,0.0026558669293196544,-0.048045771916749025,0.01828272878688141,-0.01215299619377559,0.009414409395401472,0.00007080535316312721,0.00010551402009469268,-0.06763595033954731,-0.05070706023275799,-0.033137454757719335],[0.0007848406805676071,0.019617665350732366,0.02743614297959501,1.0,0.0057806031199825365,0.01134020252584387,0.010288221523944808,0.018105244564724954,0.022905463998227155,0.008093350874447243,-0.0031160830409200937,-0.002673015405507322,-0.01124434510723124,0.011244345107230252,-0.017942872128143047,0.01794287212814234,-0.0030165129302883106,0.0011633603292911122,-0.001526957450576229,0.00047016612665402765,-0.0025504231739895116,0.001748988504712364,0.025315925406069632,0.018082347535974392,-0.0038056828457032413,0.019119426228901695,0.0028199697774760417,0.003907274402030731,0.001543552625558579,0.0026685100905693964,0.004936429345216984,0.006137098559033027,-0.00044330827599593423,0.004915547663210804,0.00047591719540925883,0.001507491300736037,-3.310447688038387e-6,-3.907403398008456e-6,-0.0045053613039864925,-0.00316155440076797,-0.0022054531819260975],[0.24456166005600477,0.5636113098764616,0.12985324506207951,0.0057806031199825365,1.0,0.9407658891779211,0.944781299212041,0.1729639992687997,0.18606789160135714,0.986755495669401,-0.026056562605636376,-0.022521985402294126,-0.07519471892756034,0.07519471892760367,-0.09850540833438504,0.09850540833438044,-0.036301050248498175,0.007727909237510066,-0.003088456983902229,0.005241320588293898,-0.03383245304219076,-0.02537235167618733,0.0014717118747915123,0.003103848885120973,0.034841914686445916,0.008615655639185517,0.00841260996779301,0.007639461411273003,0.00943862011808404,0.008521366418765622,-0.0024075866013784394,-0.0016688581076243294,-0.031127447605759168,-0.005525531657369896,-0.011725172867700178,0.005477234478220632,0.00007161592676738164,0.00007585208713866628,-0.04362564222322548,-0.03348613348634349,-0.009718124177203313],[0.269285552899791,0.8042038017110623,0.26679826154706254,0.01134020252584387,0.9407658891779211,1.0,0.8986535927114836,0.3085157042174999,0.32511910706015806,0.9331745918490381,-0.047303965518723325,-0.04092658452608163,-0.11403012497330882,0.11403012497339383,-0.1411071391985672,0.14110713919855944,-0.047144891744068725,0.009906259713181364,-0.009573863433403591,0.00566571614863074,-0.04299307812633575,-0.030527424603254548,0.00023761572808559506,0.0025745588712607305,0.04609902221930528,0.010131821148754026,0.008193623878487535,0.007437357195959408,0.009357181886123726,0.008701445765865415,-0.0029293414417283763,-0.002464648785749001,-0.041711428554090595,-0.004047469381008777,-0.014449623518705297,0.005291246705709514,0.00032661780858543474,0.00024071317076843426,-0.05672514516308987,-0.04418753027549245,-0.017269471033238948],[0.14966782097561154,0.5670399724053763,0.2294108975207711,0.010288221523944808,0.944781299212041,0.8986535927114836,1.0,0.2773461985964213,0.2851094805068042,0.9854261282430368,-0.04178669518730108,-0.03609908340405022,-0.1442615295266089,0.14426152952669,-0.19167992194629035,0.19167992194628097,-0.054624237135164316,0.01629546222584496,-0.00892475654212395,0.004476016974744298,-0.04974609583482089,-0.036098498866435264,0.0013657821414094016,0.004141135368948081,0.05283366477689334,0.01507119168512402,0.008907103158320237,0.008219780406229178,0.009785193304075067,0.009637594003832736,-0.0018081516436192627,-0.0017972424031446165,-0.04716808323137718,-0.0064341743095081795,-0.013544489263774455,0.006193206923621666,0.00014638035020529038,0.00016248483551595033,-0.06635045326244203,-0.05118409749340473,-0.017093077230979966],[0.03138089539465287,0.47423828444463384,0.9913691297741626,0.018105244564724954,0.1729639992687997,0.3085157042174999,0.2773461985964213,1.0,0.9978521442928364,0.22707086478748806,-0.05551235782656064,-0.04654775262729973,-0.18932795450605452,0.18932795450611536,-0.32209888672087233,0.32209888672086046,-0.07049510966481583,0.02426871530758194,-0.015796743910115135,0.010298275093155755,-0.06696411870014442,-0.03999451103249137,-0.003521943065940092,0.0019035298723484827,0.07094492020469087,0.021007937940824287,0.006378975619992833,0.006438630857416798,0.007234213226936658,0.007956179117130726,-0.002100419134805981,0.0005466096357746809,-0.06560257305003715,0.015562998452770661,-0.01757275942338162,0.00903966199186665,0.00013985664299877358,0.000147033201482863,-0.08625914289338411,-0.06583618095395305,-0.029517897034728822],[0.0396163300173507,0.4975714719703315,0.9962198218534727,0.022905463998227155,0.18606789160135714,0.32511910706015806,0.2851094805068042,0.9978521442928364,1.0,0.23769834997999326,-0.056640026874791076,-0.04754912522918661,-0.18974057839024863,0.1897405783903259,-0.32247018569426633,0.32247018569425345,-0.04951776626140709,0.030297720324618763,-0.01916415561467973,0.011676570423131211,-0.04859597650512051,-0.021004997735394142,-0.001522805574228837,0.003105161235230693,0.05121843880039051,0.024279857160961812,0.002544077649930207,0.004287831246786225,0.003975071562675722,0.0049286867705293875,-0.005085168300108901,0.0025281415437383107,-0.04828554055179741,0.017199482183563725,-0.012802688967769359,0.009865934613406332,0.00007880358648135726,0.00011025351539603985,-0.06894306998950606,-0.051672796879442165,-0.033970785648055155],[0.20104526794116725,0.5732413777733021,0.18094780590030363,0.008093350874447243,0.986755495669401,0.9331745918490381,0.9854261282430368,0.22707086478748806,0.23769834997999326,1.0,-0.03420749215842073,-0.02955771917588088,-0.1104427232742377,0.11044272327430113,-0.145999980132019,0.14599998013201287,-0.046054013148013745,0.012195082110016629,-0.006109624342597428,0.004902025810529396,-0.04232608958150118,-0.031123119028584147,0.0014322638847682387,0.003666532756569948,0.044410380658518614,0.012009737250825792,0.008750675312495432,0.008013710574431433,0.009711236082709051,0.009179055065663046,-0.002124730588094818,-0.001751439704077648,-0.039658904638289326,-0.006046698064460957,-0.012775181215343285,0.005899137614525746,0.00011064062406400801,0.00012099984784694159,-0.05570742122050099,-0.04289043202812803,-0.013505699811932077],[-0.0274873748512412,-0.07439759444032858,-0.05438070545122305,-0.0031160830409200937,-0.026056562605636376,-0.047303965518723325,-0.04178669518730108,-0.05551235782656064,-0.056640026874791076,-0.03420749215842073,1.0,0.9759810916936444,0.39227732513411934,-0.39227732513411256,0.30660747496624835,-0.30660747496625446,-0.12450128219090824,-0.041978526954342385,-0.07926528989164167,-0.048432041597026895,-0.09449447884463283,-0.08496485501534388,0.010609172779670623,0.010755514038743176,0.12040769651090323,-0.014143748433978275,0.014954689515875601,0.0029601927732877324,0.007519113506408679,0.007532645151199362,0.03013388167774258,-0.005647290085244858,-0.09311895000037497,-0.005506129868084812,-0.02145813906273446,-0.008261176378938884,-0.0006107230042053063,-0.0005189091325536975,-0.12345231955169404,-0.10041748399941136,-0.06446386786063049],[-0.024439787650897184,-0.06420912304204107,-0.04558433835453128,-0.002673015405507322,-0.022521985402294126,-0.04092658452608163,-0.03609908340405022,-0.04654775262729973,-0.04754912522918661,-0.02955771917588088,0.9759810916936444,1.0,0.41665795516457493,-0.4166579551645637,0.31158268760453295,-0.31158268760453667,-0.10551427547875082,-0.02540188079191081,-0.06635371701779752,-0.03881970450332457,-0.0780161949162816,-0.08001098890263755,0.0027593409987105425,0.0047364200286126095,0.10305158382958733,-0.012446668275307618,0.009893878924668016,0.0036703445550116706,0.006825124992614777,0.007482919346067469,0.012926047736638196,-0.007164336211896523,-0.07674620649792373,-0.006942092512131228,-0.020387101024745495,-0.0044883362641081285,-0.0005016034676248937,-0.00042562857642628404,-0.10887175982013579,-0.08713749831260807,-0.05639494285902802],[0.04652640752464542,-0.15100778844683505,-0.1847396082397067,-0.01124434510723124,-0.07519471892756034,-0.11403012497330882,-0.1442615295266089,-0.18932795450605452,-0.18974057839024863,-0.1104427232742377,0.39227732513411934,0.41665795516457493,1.0,-1.000000000000002,0.8187582665236236,-0.8187582665236182,0.539944450303229,0.07904389300729497,-0.08012084997581184,-0.004332418764590295,0.44827833349713286,0.35212325377442094,0.02997731028536602,0.01178522452693131,-0.4981864496445411,0.029713967192075103,-0.07328006615393502,-0.037181404849508645,-0.06066410402927125,-0.05371440860059612,-0.055721186963228815,0.026939943573317315,0.43526155030693775,-0.0018717250295642673,0.0776929499701985,0.013926662361771078,-0.0025556182125621154,-0.0021515420769296152,0.5734239641676812,0.46913309328221015,-0.09247909103428253],[-0.04652640752463271,0.15100778844701082,0.18473960823977875,0.011244345107230252,0.07519471892760367,0.11403012497339383,0.14426152952669,0.18932795450611536,0.1897405783903259,0.11044272327430113,-0.39227732513411256,-0.4166579551645637,-1.000000000000002,1.0,-0.8187582665236578,0.8187582665236508,-0.5399444503032272,-0.07904389300729063,0.08012084997580492,0.0043324187645978314,-0.44827833349713186,-0.35212325377440784,-0.029977310285359878,-0.011785224526914702,0.49818644964453884,-0.0297139671920689,0.07328006615393903,0.03718140484950695,0.060664104029270347,0.05371440860059467,0.055721186963242825,-0.026939943573314924,-0.43526155030694463,0.0018717250296138635,-0.07769294997019192,-0.013926662361750703,0.0025556182125619146,0.0021515420769294678,-0.5734239641676749,-0.4691330932822058,0.09247909103427024],[0.043996291336146326,-0.18949102336648754,-0.3177892947649072,-0.017942872128143047,-0.09850540833438504,-0.1411071391985672,-0.19167992194629035,-0.32209888672087233,-0.32247018569426633,-0.145999980132019,0.30660747496624835,0.31158268760453295,0.8187582665236236,-0.8187582665236578,1.0,-1.000000000000001,0.4232232366839777,0.009122141163327482,-0.09909986266443649,-0.027753531275041536,0.32836695614898026,0.24213308988516904,0.02202339534062322,0.003982592077265619,-0.3718531672222118,-0.007863403298240739,-0.052264331487113645,-0.03459092438463831,-0.04770192068716961,-0.04495939348931224,-0.024167514199843077,0.011886318888218436,0.305977626263527,-0.006944019095705859,0.051843397121944856,-0.0006128134187212939,-0.002744798872936185,-0.0027767544780152057,0.48307083482134777,0.39659804047382097,-0.09948879512263495],[-0.043996291336148255,0.18949102336647597,0.31778929476489376,0.01794287212814234,0.09850540833438044,0.14110713919855944,0.19167992194628097,0.32209888672086046,0.32247018569425345,0.14599998013201287,-0.30660747496625446,-0.31158268760453667,-0.8187582665236182,0.8187582665236508,-1.000000000000001,1.0,-0.42322323668397077,-0.009122141163315637,0.09909986266449233,0.027753531275041772,-0.32836695614897216,-0.24213308988516624,-0.022023395340643976,-0.003982592077289277,0.37185316722220085,0.007863403298229474,0.052264331487092586,0.03459092438461565,0.04770192068715675,0.04495939348929499,0.024167514199810114,-0.011886318888240592,-0.30597762626350633,0.006944019095703156,-0.05184339712194145,0.0006128134187223658,0.002744798872936594,0.0027767544780153064,-0.48307083482135044,-0.3965980404738271,0.09948879512273658],[0.06865950904293942,-0.02564004982954874,-0.04907144933550999,-0.0030165129302883106,-0.036301050248498175,-0.047144891744068725,-0.054624237135164316,-0.07049510966481583,-0.04951776626140709,-0.046054013148013745,-0.12450128219090824,-0.10551427547875082,0.539944450303229,-0.5399444503032272,0.4232232366839777,-0.42322323668397077,1.0,0.3696171127540594,0.05565302039600728,0.11996337063333386,0.7765096721540414,0.6363439177303024,0.04421217137882173,0.02201539451029536,-0.9246845263637886,0.19962617480332528,-0.05482699635194067,0.008494950368408602,-0.03312820636755357,-0.008561500034980197,-0.08490253244225474,0.04502431073330826,0.728332023167956,0.01507400861999635,0.11683517584392758,0.0842662714086227,-0.0008960484656192222,-0.0005496953796779379,0.9266734668843231,0.7173082605914783,-0.044421570407151306],[0.015445574814098192,0.015444873002306748,0.0288796820971142,0.0011633603292911122,0.007727909237510066,0.009906259713181364,0.01629546222584496,0.02426871530758194,0.030297720324618763,0.012195082110016629,-0.041978526954342385,-0.02540188079191081,0.07904389300729497,-0.07904389300729063,0.009122141163327482,-0.009122141163315637,0.3696171127540594,1.0,0.128892191190037,0.20888409042077777,0.17249934742973633,0.3782875603025145,0.10332505798786244,0.09085827801395671,-0.3452411710641095,0.5248059899151984,0.08690250002026696,0.13803220911521819,0.0926655713346428,0.13271164295176519,-0.00807523728211402,0.07194082542841881,0.21788380445650113,-0.01956192368609056,0.01926323854125567,0.14496297202441552,0.000023341395022629132,0.0001416799939391129,0.12965404166742975,0.1462839079832997,-2.615878072196344e-6],[-0.010126133204888086,-0.027051391724626592,-0.018815162033486047,-0.001526957450576229,-0.003088456983902229,-0.009573863433403591,-0.00892475654212395,-0.015796743910115135,-0.01916415561467973,-0.006109624342597428,-0.07926528989164167,-0.06635371701779752,-0.08012084997581184,0.08012084997580492,-0.09909986266443649,0.09909986266449233,0.05565302039600728,0.128892191190037,1.0,0.5350174194236692,0.16691984311991664,0.20889298473857523,0.014303068587575686,0.035371604447671845,-0.2406366459514492,0.1490449599539912,0.03183073763077485,0.040730464212583625,0.04433923898674242,0.027928095768284564,-0.03989590756864118,0.04577439533907224,0.10097476095355591,0.03224682181104111,0.05412932838231855,0.06685480092643584,0.00162845914865968,0.0005958762855081695,-0.010978596043066962,-0.02265792476613701,0.541775068817913],[0.006092449785436461,0.0036732293695082973,0.011582515188133384,0.00047016612665402765,0.005241320588293898,0.00566571614863074,0.004476016974744298,0.010298275093155755,0.011676570423131211,0.004902025810529396,-0.048432041597026895,-0.03881970450332457,-0.004332418764590295,0.0043324187645978314,-0.027753531275041536,0.027753531275041772,0.11996337063333386,0.20888409042077777,0.5350174194236692,1.0,0.11816733230471951,0.20373344266153273,-0.0031426713930822947,0.00925670613303397,-0.19442402105938755,0.22552426851143015,0.01628867842247294,0.029708647318428996,0.0294200671600434,0.018326374986274416,-0.044326827773195805,0.03551917796750809,0.10067423802152416,0.02079789209321753,-0.0448773713701858,0.22354180755777844,0.0006798080923574052,0.00020642752358510303,0.05261884609930211,0.05747262045603908,0.181903528902094],[0.04919513877127401,-0.024619416690755867,-0.04848457417597906,-0.0025504231739895116,-0.03383245304219076,-0.04299307812633575,-0.04974609583482089,-0.06696411870014442,-0.04859597650512051,-0.04232608958150118,-0.09449447884463283,-0.0780161949162816,0.44827833349713286,-0.44827833349713186,0.32836695614898026,-0.32836695614897216,0.7765096721540414,0.17249934742973633,0.16691984311991664,0.11816733230471951,1.0,0.588326881528597,0.02905268104944728,0.012786870118282459,-0.8595813620725719,0.10802693512159402,-0.051086435772018095,-0.0036317694862676884,-0.030933843929079805,-0.020989946863703517,-0.07887729009633648,0.0354568401965123,0.6694964985655192,0.035424876666317905,0.11129980871091788,0.04292729802886324,-0.00040730039053396154,-0.00033847518315525363,0.7464327143305801,0.5675169424431469,0.060430253783162045],[0.03846841320213852,-0.00929010003390342,-0.020469719299188456,0.001748988504712364,-0.02537235167618733,-0.030527424603254548,-0.036098498866435264,-0.03999451103249137,-0.021004997735394142,-0.031123119028584147,-0.08496485501534388,-0.08001098890263755,0.35212325377442094,-0.35212325377440784,0.24213308988516904,-0.24213308988516624,0.6363439177303024,0.3782875603025145,0.20889298473857523,0.20373344266153273,0.588326881528597,1.0,0.16515276888157704,0.14218033846621259,-0.6805615103139596,0.35675224784646226,0.031516004404121854,0.0738840431593298,0.029185113542175598,0.03894094756627386,0.012775753189950645,0.12643302754300284,0.5153249146364098,0.19798548460148116,0.08698798810335892,0.0595987993084013,-0.0013535363556781027,-0.0013456787848973183,0.593960818212765,0.606247508649026,0.06474159637045969],[0.02108272095670079,0.00034375673829281937,-0.0015768927366972092,0.025315925406069632,0.0014717118747915123,0.00023761572808559506,0.0013657821414094016,-0.003521943065940092,-0.001522805574228837,0.0014322638847682387,0.010609172779670623,0.0027593409987105425,0.02997731028536602,-0.029977310285359878,0.02202339534062322,-0.022023395340643976,0.04421217137882173,0.10332505798786244,0.014303068587575686,-0.0031426713930822947,0.02905268104944728,0.16515276888157704,1.0,0.9456316836069607,-0.3100527681109811,0.7214094116249194,0.1899258937779711,0.20418898812368683,0.07010259223268916,0.08564566567153105,0.4527418856543625,0.4801418269530089,0.10119255219841622,0.17337412174864103,-0.0035665995177595377,-0.0026041441569058577,-0.0008899962568006157,-0.0008880838525019424,0.028429757837133005,0.0822543851175774,0.001719579349343029],[0.010456230733399224,0.0020725409720591193,0.002964477493832825,0.018082347535974392,0.003103848885120973,0.0025745588712607305,0.004141135368948081,0.0019035298723484827,0.003105161235230693,0.003666532756569948,0.010755514038743176,0.0047364200286126095,0.01178522452693131,-0.011785224526914702,0.003982592077265619,-0.003982592077289277,0.02201539451029536,0.09085827801395671,0.035371604447671845,0.00925670613303397,0.012786870118282459,0.14218033846621259,0.9456316836069607,1.0,-0.2787260145525857,0.7619043744063556,0.17271649795927663,0.19596098556014757,0.050744793809244085,0.08020958520356086,0.4579181918253143,0.4903068550582558,0.08144371239858433,0.15915908577085827,0.0018367304577301998,-0.0030603947220381417,-0.000976279476062326,-0.0010012133270409125,0.0033431455602338316,0.05999055484354757,0.012706354561020218],[-0.06436948231612304,0.028643528126490594,0.05085522392403467,-0.0038056828457032413,0.034841914686445916,0.04609902221930528,0.05283366477689334,0.07094492020469087,0.05121843880039051,0.044410380658518614,0.12040769651090323,0.10305158382958733,-0.4981864496445411,0.49818644964453884,-0.3718531672222118,0.37185316722220085,-0.9246845263637886,-0.3452411710641095,-0.2406366459514492,-0.19442402105938755,-0.8595813620725719,-0.6805615103139596,-0.3100527681109811,-0.2787260145525857,1.0,-0.3823066742646997,-0.0036322007411890194,-0.06552356795655895,0.006157920977952751,-0.014960467593646186,-0.03529403021443739,-0.17705439597239625,-0.7336551743309259,-0.07259543430123608,-0.1191849544289617,-0.07832076826683895,0.0007198673214681128,0.0006213358015091428,-0.8527020463726698,-0.6709793424885377,-0.07006993324598032],[0.01558711481818556,0.012556469266210242,0.0235187494826997,0.019119426228901695,0.008615655639185517,0.010131821148754026,0.01507119168512402,0.021007937940824287,0.024279857160961812,0.012009737250825792,-0.014143748433978275,-0.012446668275307618,0.029713967192075103,-0.0297139671920689,-0.007863403298240739,0.007863403298229474,0.19962617480332528,0.5248059899151984,0.1490449599539912,0.22552426851143015,0.10802693512159402,0.35675224784646226,0.7214094116249194,0.7619043744063556,-0.3823066742646997,1.0,0.1355952851319183,0.17810680065834628,0.06816873389189923,0.10885947269194408,0.258860403689951,0.32329997956671547,0.1719120975900776,0.15312143922861765,0.004231798406485705,0.08830892468589044,-0.0005831123120601341,-0.0006250143732187951,0.060133959845962606,0.1255166914399695,0.040298458708567894],[0.004032350004527441,0.00035874945460841347,0.0020293672537652894,0.0028199697774760417,0.00841260996779301,0.008193623878487535,0.008907103158320237,0.006378975619992833,0.002544077649930207,0.008750675312495432,0.014954689515875601,0.009893878924668016,-0.07328006615393502,0.07328006615393903,-0.052264331487113645,0.052264331487092586,-0.05482699635194067,0.08690250002026696,0.03183073763077485,0.01628867842247294,-0.051086435772018095,0.031516004404121854,0.1899258937779711,0.17271649795927663,-0.0036322007411890194,0.1355952851319183,1.0,0.8264253021758502,0.962680674222838,0.8066636403053472,0.27522991795590196,0.2119674750516158,-0.004298184575656276,0.06413137589227318,-0.007344148212049143,0.07838058292044404,0.0013188465675009517,0.0013597718412539754,-0.0958705258392951,-0.03878315774672051,0.006816297318435458],[0.0060539363051698315,0.0017156336055047805,0.0037183207033208037,0.003907274402030731,0.007639461411273003,0.007437357195959408,0.008219780406229178,0.006438630857416798,0.004287831246786225,0.008013710574431433,0.0029601927732877324,0.0036703445550116706,-0.037181404849508645,0.03718140484950695,-0.03459092438463831,0.03459092438461565,0.008494950368408602,0.13803220911521819,0.040730464212583625,0.029708647318428996,-0.0036317694862676884,0.0738840431593298,0.20418898812368683,0.19596098556014757,-0.06552356795655895,0.17810680065834628,0.8264253021758502,1.0,0.8083230298667484,0.9525110864409959,0.18220261686317968,0.2897789768564911,0.07390459888273637,0.06923540820223704,0.007464637895930161,0.08728477524894265,0.0014874512086927908,0.0016446384616913136,-0.041637037545877116,-0.026528707193656277,0.026265687640245696],[0.006035236369722657,0.002255819047510759,0.0034336832301465805,0.001543552625558579,0.00943862011808404,0.009357181886123726,0.009785193304075067,0.007234213226936658,0.003975071562675722,0.009711236082709051,0.007519113506408679,0.006825124992614777,-0.06066410402927125,0.060664104029270347,-0.04770192068716961,0.04770192068715675,-0.03312820636755357,0.0926655713346428,0.04433923898674242,0.0294200671600434,-0.030933843929079805,0.029185113542175598,0.07010259223268916,0.050744793809244085,0.006157920977952751,0.06816873389189923,0.962680674222838,0.8083230298667484,1.0,0.8381095749538557,0.0047720550425124015,0.02034172326076342,0.016502605429913303,0.03307259293371958,-0.004517234620801185,0.09352501076082613,0.0019825953226504686,0.0020568206794351275,-0.07603032604304398,-0.03464348267537666,0.014810503941304495],[0.004066000995819691,0.002202454346831175,0.004282116382409413,0.0026685100905693964,0.008521366418765622,0.008701445765865415,0.009637594003832736,0.007956179117130726,0.0049286867705293875,0.009179055065663046,0.007532645151199362,0.007482919346067469,-0.05371440860059612,0.05371440860059467,-0.04495939348931224,0.04495939348929499,-0.008561500034980197,0.13271164295176519,0.027928095768284564,0.018326374986274416,-0.020989946863703517,0.03894094756627386,0.08564566567153105,0.08020958520356086,-0.014960467593646186,0.10885947269194408,0.8066636403053472,0.9525110864409959,0.8381095749538557,1.0,0.003376550608883678,0.034697706760301227,0.052748438095770955,0.04823884075249548,0.0075816634822275615,0.0937105683512447,0.0018043522197696454,0.001965730765818354,-0.0663983105384493,-0.044146444730397215,0.02046145292460207],[-0.00696856263432405,-0.007138433142117064,-0.0050519214915017594,0.004936429345216984,-0.0024075866013784394,-0.0029293414417283763,-0.0018081516436192627,-0.002100419134805981,-0.005085168300108901,-0.002124730588094818,0.03013388167774258,0.012926047736638196,-0.055721186963228815,0.055721186963242825,-0.024167514199843077,0.024167514199810114,-0.08490253244225474,-0.00807523728211402,-0.03989590756864118,-0.044326827773195805,-0.07887729009633648,0.012775753189950645,0.4527418856543625,0.4579181918253143,-0.03529403021443739,0.258860403689951,0.27522991795590196,0.18220261686317968,0.0047720550425124015,0.003376550608883678,1.0,0.7109404007453246,-0.07450226982150317,0.11947133995427212,-0.011089545204142038,-0.04263197549418885,-0.002169669418361832,-0.0022821206760269036,-0.08415521171820445,-0.020238662864655144,-0.02742568342185516],[-0.000808763174668328,-0.0011357065513941701,0.0026558669293196544,0.006137098559033027,-0.0016688581076243294,-0.002464648785749001,-0.0017972424031446165,0.0005466096357746809,0.0025281415437383107,-0.001751439704077648,-0.005647290085244858,-0.007164336211896523,0.026939943573317315,-0.026939943573314924,0.011886318888218436,-0.011886318888240592,0.04502431073330826,0.07194082542841881,0.04577439533907224,0.03551917796750809,0.0354568401965123,0.12643302754300284,0.4801418269530089,0.4903068550582558,-0.17705439597239625,0.32329997956671547,0.2119674750516158,0.2897789768564911,0.02034172326076342,0.034697706760301227,0.7109404007453246,1.0,0.0768860818177038,0.14456158308099268,0.008421685631292829,0.0033488680726862065,-0.0018508625434485605,-0.0018253422670129998,0.038283572387834,0.04404114324260363,0.019910042746374687],[0.03624098973279388,-0.02712921289753658,-0.048045771916749025,-0.00044330827599593423,-0.031127447605759168,-0.041711428554090595,-0.04716808323137718,-0.06560257305003715,-0.04828554055179741,-0.039658904638289326,-0.09311895000037497,-0.07674620649792373,0.43526155030693775,-0.43526155030694463,0.305977626263527,-0.30597762626350633,0.728332023167956,0.21788380445650113,0.10097476095355591,0.10067423802152416,0.6694964985655192,0.5153249146364098,0.10119255219841622,0.08144371239858433,-0.7336551743309259,0.1719120975900776,-0.004298184575656276,0.07390459888273637,0.016502605429913303,0.052748438095770955,-0.07450226982150317,0.0768860818177038,1.0,0.13642180107149404,0.09662350251661321,0.06369983484342638,-0.002273002860328842,-0.0019456792709551696,0.6997856603657319,0.5728562938328865,0.04688404556023485],[0.000019434633277782584,0.0008737007889873576,0.01828272878688141,0.004915547663210804,-0.005525531657369896,-0.004047469381008777,-0.0064341743095081795,0.015562998452770661,0.017199482183563725,-0.006046698064460957,-0.005506129868084812,-0.006942092512131228,-0.0018717250295642673,0.0018717250296138635,-0.006944019095705859,0.006944019095703156,0.01507400861999635,-0.01956192368609056,0.03224682181104111,0.02079789209321753,0.035424876666317905,0.19798548460148116,0.17337412174864103,0.15915908577085827,-0.07259543430123608,0.15312143922861765,0.06413137589227318,0.06923540820223704,0.03307259293371958,0.04823884075249548,0.11947133995427212,0.14456158308099268,0.13642180107149404,1.0,0.013671914926249843,0.020732114585569138,-0.0009613908429348823,-0.0008631642820766279,0.02345011880110032,0.03989072493283663,0.02777107011016265],[-0.08466176897309875,-0.00952461120449165,-0.01215299619377559,0.00047591719540925883,-0.011725172867700178,-0.014449623518705297,-0.013544489263774455,-0.01757275942338162,-0.012802688967769359,-0.012775181215343285,-0.02145813906273446,-0.020387101024745495,0.0776929499701985,-0.07769294997019192,0.051843397121944856,-0.05184339712194145,0.11683517584392758,0.01926323854125567,0.05412932838231855,-0.0448773713701858,0.11129980871091788,0.08698798810335892,-0.0035665995177595377,0.0018367304577301998,-0.1191849544289617,0.004231798406485705,-0.007344148212049143,0.007464637895930161,-0.004517234620801185,0.0075816634822275615,-0.011089545204142038,0.008421685631292829,0.09662350251661321,0.013671914926249843,1.0,-0.23550623127716697,-0.04617697184640249,-0.04611048412608959,0.13190862790196642,0.10466584109411872,0.05968307277011727],[0.018820106598225667,0.0037493497319350767,0.009414409395401472,0.001507491300736037,0.005477234478220632,0.005291246705709514,0.006193206923621666,0.00903966199186665,0.009865934613406332,0.005899137614525746,-0.008261176378938884,-0.0044883362641081285,0.013926662361771078,-0.013926662361750703,-0.0006128134187212939,0.0006128134187223658,0.0842662714086227,0.14496297202441552,0.06685480092643584,0.22354180755777844,0.04292729802886324,0.0595987993084013,-0.0026041441569058577,-0.0030603947220381417,-0.07832076826683895,0.08830892468589044,0.07838058292044404,0.08728477524894265,0.09352501076082613,0.0937105683512447,-0.04263197549418885,0.0033488680726862065,0.06369983484342638,0.020732114585569138,-0.23550623127716697,1.0,0.34462673715839615,0.3447268190752403,0.029745397523996124,0.03236054409943188,-0.01740695467750183],[-0.00022925632718926052,0.0006492087347369364,0.00007080535316312721,-3.310447688038387e-6,0.00007161592676738164,0.00032661780858543474,0.00014638035020529038,0.00013985664299877358,0.00007880358648135726,0.00011064062406400801,-0.0006107230042053063,-0.0005016034676248937,-0.0025556182125621154,0.0025556182125619146,-0.002744798872936185,0.002744798872936594,-0.0008960484656192222,0.000023341395022629132,0.00162845914865968,0.0006798080923574052,-0.00040730039053396154,-0.0013535363556781027,-0.0008899962568006157,-0.000976279476062326,0.0007198673214681128,-0.0005831123120601341,0.0013188465675009517,0.0014874512086927908,0.0019825953226504686,0.0018043522197696454,-0.002169669418361832,-0.0018508625434485605,-0.002273002860328842,-0.0009613908429348823,-0.04617697184640249,0.34462673715839615,1.0,0.9999949094993633,-0.0019489102559652133,-0.0001999338400868781,0.0004930283597110615],[-0.00017393312304473855,0.00046956105766393375,0.00010551402009469268,-3.907403398008456e-6,0.00007585208713866628,0.00024071317076843426,0.00016248483551595033,0.000147033201482863,0.00011025351539603985,0.00012099984784694159,-0.0005189091325536975,-0.00042562857642628404,-0.0021515420769296152,0.0021515420769294678,-0.0027767544780152057,0.0027767544780153064,-0.0005496953796779379,0.0001416799939391129,0.0005958762855081695,0.00020642752358510303,-0.00033847518315525363,-0.0013456787848973183,-0.0008880838525019424,-0.0010012133270409125,0.0006213358015091428,-0.0006250143732187951,0.0013597718412539754,0.0016446384616913136,0.0020568206794351275,0.001965730765818354,-0.0022821206760269036,-0.0018253422670129998,-0.0019456792709551696,-0.0008631642820766279,-0.04611048412608959,0.3447268190752403,0.9999949094993633,1.0,-0.0014130179995937228,0.0002577396229029938,-0.00008571133638533997],[0.07480154936706492,-0.03653822052249931,-0.06763595033954731,-0.0045053613039864925,-0.04362564222322548,-0.05672514516308987,-0.06635045326244203,-0.08625914289338411,-0.06894306998950606,-0.05570742122050099,-0.12345231955169404,-0.10887175982013579,0.5734239641676812,-0.5734239641676749,0.48307083482134777,-0.48307083482135044,0.9266734668843231,0.12965404166742975,-0.010978596043066962,0.05261884609930211,0.7464327143305801,0.593960818212765,0.028429757837133005,0.0033431455602338316,-0.8527020463726698,0.060133959845962606,-0.0958705258392951,-0.041637037545877116,-0.07603032604304398,-0.0663983105384493,-0.08415521171820445,0.038283572387834,0.6997856603657319,0.02345011880110032,0.13190862790196642,0.029745397523996124,-0.0019489102559652133,-0.0014130179995937228,1.0,0.7794938598017974,-0.05990303189177373],[0.057656812127913244,-0.02673797441179142,-0.05070706023275799,-0.00316155440076797,-0.03348613348634349,-0.04418753027549245,-0.05118409749340473,-0.06583618095395305,-0.051672796879442165,-0.04289043202812803,-0.10041748399941136,-0.08713749831260807,0.46913309328221015,-0.4691330932822058,0.39659804047382097,-0.3965980404738271,0.7173082605914783,0.1462839079832997,-0.02265792476613701,0.05747262045603908,0.5675169424431469,0.606247508649026,0.0822543851175774,0.05999055484354757,-0.6709793424885377,0.1255166914399695,-0.03878315774672051,-0.026528707193656277,-0.03464348267537666,-0.044146444730397215,-0.020238662864655144,0.04404114324260363,0.5728562938328865,0.03989072493283663,0.10466584109411872,0.03236054409943188,-0.0001999338400868781,0.0002577396229029938,0.7794938598017974,1.0,-0.06716826207636846],[-0.01800825430198682,-0.03408424012320423,-0.033137454757719335,-0.0022054531819260975,-0.009718124177203313,-0.017269471033238948,-0.017093077230979966,-0.029517897034728822,-0.033970785648055155,-0.013505699811932077,-0.06446386786063049,-0.05639494285902802,-0.09247909103428253,0.09247909103427024,-0.09948879512263495,0.09948879512273658,-0.044421570407151306,-2.615878072196344e-6,0.541775068817913,0.181903528902094,0.060430253783162045,0.06474159637045969,0.001719579349343029,0.012706354561020218,-0.07006993324598032,0.040298458708567894,0.006816297318435458,0.026265687640245696,0.014810503941304495,0.02046145292460207,-0.02742568342185516,0.019910042746374687,0.04688404556023485,0.02777107011016265,0.05968307277011727,-0.01740695467750183,0.0004930283597110615,-0.00008571133638533997,-0.05990303189177373,-0.06716826207636846,1.0]],\"type\":\"heatmap\",\"xaxis\":\"x\",\"yaxis\":\"y\",\"hovertemplate\":\"Variables: %{x}\\u003cbr\\u003eVariables: %{y}\\u003cbr\\u003eCoeficiente de Correlación: %{z}\\u003cextra\\u003e\\u003c\\u002fextra\\u003e\"}],                        {\"template\":{\"data\":{\"histogram2dcontour\":[{\"type\":\"histogram2dcontour\",\"colorbar\":{\"outlinewidth\":0,\"ticks\":\"\"},\"colorscale\":[[0.0,\"#0d0887\"],[0.1111111111111111,\"#46039f\"],[0.2222222222222222,\"#7201a8\"],[0.3333333333333333,\"#9c179e\"],[0.4444444444444444,\"#bd3786\"],[0.5555555555555556,\"#d8576b\"],[0.6666666666666666,\"#ed7953\"],[0.7777777777777778,\"#fb9f3a\"],[0.8888888888888888,\"#fdca26\"],[1.0,\"#f0f921\"]]}],\"choropleth\":[{\"type\":\"choropleth\",\"colorbar\":{\"outlinewidth\":0,\"ticks\":\"\"}}],\"histogram2d\":[{\"type\":\"histogram2d\",\"colorbar\":{\"outlinewidth\":0,\"ticks\":\"\"},\"colorscale\":[[0.0,\"#0d0887\"],[0.1111111111111111,\"#46039f\"],[0.2222222222222222,\"#7201a8\"],[0.3333333333333333,\"#9c179e\"],[0.4444444444444444,\"#bd3786\"],[0.5555555555555556,\"#d8576b\"],[0.6666666666666666,\"#ed7953\"],[0.7777777777777778,\"#fb9f3a\"],[0.8888888888888888,\"#fdca26\"],[1.0,\"#f0f921\"]]}],\"heatmap\":[{\"type\":\"heatmap\",\"colorbar\":{\"outlinewidth\":0,\"ticks\":\"\"},\"colorscale\":[[0.0,\"#0d0887\"],[0.1111111111111111,\"#46039f\"],[0.2222222222222222,\"#7201a8\"],[0.3333333333333333,\"#9c179e\"],[0.4444444444444444,\"#bd3786\"],[0.5555555555555556,\"#d8576b\"],[0.6666666666666666,\"#ed7953\"],[0.7777777777777778,\"#fb9f3a\"],[0.8888888888888888,\"#fdca26\"],[1.0,\"#f0f921\"]]}],\"heatmapgl\":[{\"type\":\"heatmapgl\",\"colorbar\":{\"outlinewidth\":0,\"ticks\":\"\"},\"colorscale\":[[0.0,\"#0d0887\"],[0.1111111111111111,\"#46039f\"],[0.2222222222222222,\"#7201a8\"],[0.3333333333333333,\"#9c179e\"],[0.4444444444444444,\"#bd3786\"],[0.5555555555555556,\"#d8576b\"],[0.6666666666666666,\"#ed7953\"],[0.7777777777777778,\"#fb9f3a\"],[0.8888888888888888,\"#fdca26\"],[1.0,\"#f0f921\"]]}],\"contourcarpet\":[{\"type\":\"contourcarpet\",\"colorbar\":{\"outlinewidth\":0,\"ticks\":\"\"}}],\"contour\":[{\"type\":\"contour\",\"colorbar\":{\"outlinewidth\":0,\"ticks\":\"\"},\"colorscale\":[[0.0,\"#0d0887\"],[0.1111111111111111,\"#46039f\"],[0.2222222222222222,\"#7201a8\"],[0.3333333333333333,\"#9c179e\"],[0.4444444444444444,\"#bd3786\"],[0.5555555555555556,\"#d8576b\"],[0.6666666666666666,\"#ed7953\"],[0.7777777777777778,\"#fb9f3a\"],[0.8888888888888888,\"#fdca26\"],[1.0,\"#f0f921\"]]}],\"surface\":[{\"type\":\"surface\",\"colorbar\":{\"outlinewidth\":0,\"ticks\":\"\"},\"colorscale\":[[0.0,\"#0d0887\"],[0.1111111111111111,\"#46039f\"],[0.2222222222222222,\"#7201a8\"],[0.3333333333333333,\"#9c179e\"],[0.4444444444444444,\"#bd3786\"],[0.5555555555555556,\"#d8576b\"],[0.6666666666666666,\"#ed7953\"],[0.7777777777777778,\"#fb9f3a\"],[0.8888888888888888,\"#fdca26\"],[1.0,\"#f0f921\"]]}],\"mesh3d\":[{\"type\":\"mesh3d\",\"colorbar\":{\"outlinewidth\":0,\"ticks\":\"\"}}],\"scatter\":[{\"fillpattern\":{\"fillmode\":\"overlay\",\"size\":10,\"solidity\":0.2},\"type\":\"scatter\"}],\"parcoords\":[{\"type\":\"parcoords\",\"line\":{\"colorbar\":{\"outlinewidth\":0,\"ticks\":\"\"}}}],\"scatterpolargl\":[{\"type\":\"scatterpolargl\",\"marker\":{\"colorbar\":{\"outlinewidth\":0,\"ticks\":\"\"}}}],\"bar\":[{\"error_x\":{\"color\":\"#2a3f5f\"},\"error_y\":{\"color\":\"#2a3f5f\"},\"marker\":{\"line\":{\"color\":\"#E5ECF6\",\"width\":0.5},\"pattern\":{\"fillmode\":\"overlay\",\"size\":10,\"solidity\":0.2}},\"type\":\"bar\"}],\"scattergeo\":[{\"type\":\"scattergeo\",\"marker\":{\"colorbar\":{\"outlinewidth\":0,\"ticks\":\"\"}}}],\"scatterpolar\":[{\"type\":\"scatterpolar\",\"marker\":{\"colorbar\":{\"outlinewidth\":0,\"ticks\":\"\"}}}],\"histogram\":[{\"marker\":{\"pattern\":{\"fillmode\":\"overlay\",\"size\":10,\"solidity\":0.2}},\"type\":\"histogram\"}],\"scattergl\":[{\"type\":\"scattergl\",\"marker\":{\"colorbar\":{\"outlinewidth\":0,\"ticks\":\"\"}}}],\"scatter3d\":[{\"type\":\"scatter3d\",\"line\":{\"colorbar\":{\"outlinewidth\":0,\"ticks\":\"\"}},\"marker\":{\"colorbar\":{\"outlinewidth\":0,\"ticks\":\"\"}}}],\"scattermapbox\":[{\"type\":\"scattermapbox\",\"marker\":{\"colorbar\":{\"outlinewidth\":0,\"ticks\":\"\"}}}],\"scatterternary\":[{\"type\":\"scatterternary\",\"marker\":{\"colorbar\":{\"outlinewidth\":0,\"ticks\":\"\"}}}],\"scattercarpet\":[{\"type\":\"scattercarpet\",\"marker\":{\"colorbar\":{\"outlinewidth\":0,\"ticks\":\"\"}}}],\"carpet\":[{\"aaxis\":{\"endlinecolor\":\"#2a3f5f\",\"gridcolor\":\"white\",\"linecolor\":\"white\",\"minorgridcolor\":\"white\",\"startlinecolor\":\"#2a3f5f\"},\"baxis\":{\"endlinecolor\":\"#2a3f5f\",\"gridcolor\":\"white\",\"linecolor\":\"white\",\"minorgridcolor\":\"white\",\"startlinecolor\":\"#2a3f5f\"},\"type\":\"carpet\"}],\"table\":[{\"cells\":{\"fill\":{\"color\":\"#EBF0F8\"},\"line\":{\"color\":\"white\"}},\"header\":{\"fill\":{\"color\":\"#C8D4E3\"},\"line\":{\"color\":\"white\"}},\"type\":\"table\"}],\"barpolar\":[{\"marker\":{\"line\":{\"color\":\"#E5ECF6\",\"width\":0.5},\"pattern\":{\"fillmode\":\"overlay\",\"size\":10,\"solidity\":0.2}},\"type\":\"barpolar\"}],\"pie\":[{\"automargin\":true,\"type\":\"pie\"}]},\"layout\":{\"autotypenumbers\":\"strict\",\"colorway\":[\"#636efa\",\"#EF553B\",\"#00cc96\",\"#ab63fa\",\"#FFA15A\",\"#19d3f3\",\"#FF6692\",\"#B6E880\",\"#FF97FF\",\"#FECB52\"],\"font\":{\"color\":\"#2a3f5f\"},\"hovermode\":\"closest\",\"hoverlabel\":{\"align\":\"left\"},\"paper_bgcolor\":\"white\",\"plot_bgcolor\":\"#E5ECF6\",\"polar\":{\"bgcolor\":\"#E5ECF6\",\"angularaxis\":{\"gridcolor\":\"white\",\"linecolor\":\"white\",\"ticks\":\"\"},\"radialaxis\":{\"gridcolor\":\"white\",\"linecolor\":\"white\",\"ticks\":\"\"}},\"ternary\":{\"bgcolor\":\"#E5ECF6\",\"aaxis\":{\"gridcolor\":\"white\",\"linecolor\":\"white\",\"ticks\":\"\"},\"baxis\":{\"gridcolor\":\"white\",\"linecolor\":\"white\",\"ticks\":\"\"},\"caxis\":{\"gridcolor\":\"white\",\"linecolor\":\"white\",\"ticks\":\"\"}},\"coloraxis\":{\"colorbar\":{\"outlinewidth\":0,\"ticks\":\"\"}},\"colorscale\":{\"sequential\":[[0.0,\"#0d0887\"],[0.1111111111111111,\"#46039f\"],[0.2222222222222222,\"#7201a8\"],[0.3333333333333333,\"#9c179e\"],[0.4444444444444444,\"#bd3786\"],[0.5555555555555556,\"#d8576b\"],[0.6666666666666666,\"#ed7953\"],[0.7777777777777778,\"#fb9f3a\"],[0.8888888888888888,\"#fdca26\"],[1.0,\"#f0f921\"]],\"sequentialminus\":[[0.0,\"#0d0887\"],[0.1111111111111111,\"#46039f\"],[0.2222222222222222,\"#7201a8\"],[0.3333333333333333,\"#9c179e\"],[0.4444444444444444,\"#bd3786\"],[0.5555555555555556,\"#d8576b\"],[0.6666666666666666,\"#ed7953\"],[0.7777777777777778,\"#fb9f3a\"],[0.8888888888888888,\"#fdca26\"],[1.0,\"#f0f921\"]],\"diverging\":[[0,\"#8e0152\"],[0.1,\"#c51b7d\"],[0.2,\"#de77ae\"],[0.3,\"#f1b6da\"],[0.4,\"#fde0ef\"],[0.5,\"#f7f7f7\"],[0.6,\"#e6f5d0\"],[0.7,\"#b8e186\"],[0.8,\"#7fbc41\"],[0.9,\"#4d9221\"],[1,\"#276419\"]]},\"xaxis\":{\"gridcolor\":\"white\",\"linecolor\":\"white\",\"ticks\":\"\",\"title\":{\"standoff\":15},\"zerolinecolor\":\"white\",\"automargin\":true,\"zerolinewidth\":2},\"yaxis\":{\"gridcolor\":\"white\",\"linecolor\":\"white\",\"ticks\":\"\",\"title\":{\"standoff\":15},\"zerolinecolor\":\"white\",\"automargin\":true,\"zerolinewidth\":2},\"scene\":{\"xaxis\":{\"backgroundcolor\":\"#E5ECF6\",\"gridcolor\":\"white\",\"linecolor\":\"white\",\"showbackground\":true,\"ticks\":\"\",\"zerolinecolor\":\"white\",\"gridwidth\":2},\"yaxis\":{\"backgroundcolor\":\"#E5ECF6\",\"gridcolor\":\"white\",\"linecolor\":\"white\",\"showbackground\":true,\"ticks\":\"\",\"zerolinecolor\":\"white\",\"gridwidth\":2},\"zaxis\":{\"backgroundcolor\":\"#E5ECF6\",\"gridcolor\":\"white\",\"linecolor\":\"white\",\"showbackground\":true,\"ticks\":\"\",\"zerolinecolor\":\"white\",\"gridwidth\":2}},\"shapedefaults\":{\"line\":{\"color\":\"#2a3f5f\"}},\"annotationdefaults\":{\"arrowcolor\":\"#2a3f5f\",\"arrowhead\":0,\"arrowwidth\":1},\"geo\":{\"bgcolor\":\"white\",\"landcolor\":\"#E5ECF6\",\"subunitcolor\":\"white\",\"showland\":true,\"showlakes\":true,\"lakecolor\":\"white\"},\"title\":{\"x\":0.05},\"mapbox\":{\"style\":\"light\"}}},\"xaxis\":{\"anchor\":\"y\",\"domain\":[0.0,1.0],\"scaleanchor\":\"y\",\"constrain\":\"domain\",\"title\":{\"text\":\"Variables\"}},\"yaxis\":{\"anchor\":\"x\",\"domain\":[0.0,1.0],\"autorange\":\"reversed\",\"constrain\":\"domain\",\"title\":{\"text\":\"Variables\"}},\"coloraxis\":{\"colorbar\":{\"title\":{\"text\":\"Coeficiente de Correlación\"}},\"colorscale\":[[0.0,\"#440154\"],[0.1111111111111111,\"#482878\"],[0.2222222222222222,\"#3e4989\"],[0.3333333333333333,\"#31688e\"],[0.4444444444444444,\"#26828e\"],[0.5555555555555556,\"#1f9e89\"],[0.6666666666666666,\"#35b779\"],[0.7777777777777778,\"#6ece58\"],[0.8888888888888888,\"#b5de2b\"],[1.0,\"#fde725\"]]},\"title\":{\"text\":\"Matriz de Correlación entre Variables Numéricas y Booleanas\"}},                        {\"responsive\": true}                    ).then(function(){\n",
              "                            \n",
              "var gd = document.getElementById('3d42e758-5dae-4480-8960-3df73af529f2');\n",
              "var x = new MutationObserver(function (mutations, observer) {{\n",
              "        var display = window.getComputedStyle(gd).display;\n",
              "        if (!display || display === 'none') {{\n",
              "            console.log([gd, 'removed!']);\n",
              "            Plotly.purge(gd);\n",
              "            observer.disconnect();\n",
              "        }}\n",
              "}});\n",
              "\n",
              "// Listen for the removal of the full notebook cells\n",
              "var notebookContainer = gd.closest('#notebook-container');\n",
              "if (notebookContainer) {{\n",
              "    x.observe(notebookContainer, {childList: true});\n",
              "}}\n",
              "\n",
              "// Listen for the clearing of the current output cell\n",
              "var outputEl = gd.closest('.output');\n",
              "if (outputEl) {{\n",
              "    x.observe(outputEl, {childList: true});\n",
              "}}\n",
              "\n",
              "                        })                };                            </script>        </div>\n",
              "</body>\n",
              "</html>"
            ]
          },
          "metadata": {},
          "output_type": "display_data"
        }
      ],
      "source": [
        "numeric_cols = X_train.select_dtypes(include=['float64', 'int64']).columns\n",
        "\n",
        "correlation_matrix = X_train[numeric_cols].corr()\n",
        "fig = px.imshow(correlation_matrix,\n",
        "                color_continuous_scale='Viridis',\n",
        "                title=\"Matriz de Correlación entre Variables Numéricas y Booleanas\",\n",
        "                labels={'x': 'Variables', 'y': 'Variables', 'color': 'Coeficiente de Correlación'})\n",
        "\n",
        "# Mostrar el gráfico interactivo\n",
        "fig.show()"
      ]
    },
    {
      "cell_type": "code",
      "execution_count": null,
      "metadata": {
        "colab": {
          "base_uri": "https://localhost:8080/"
        },
        "id": "G5ED_d7hXc-J",
        "outputId": "42101b47-6613-43b7-b081-282f44b0e87f"
      },
      "outputs": [
        {
          "name": "stdout",
          "output_type": "stream",
          "text": [
            "Pares altamente correlacionados (row, col):\n",
            "[('Des_bytes', 'Des_ip_bytes'), ('Des_bytes', 'total_bytes'), ('Des_ip_bytes', 'total_bytes'), ('Scr_pkts', 'total_packet'), ('Des_pkts', 'total_packet'), ('paket_rate', 'byte_rate'), ('Avg_num_Proc/s', 'Std_num_proc/s')]\n",
            "Columnas eliminadas: ['Des_ip_bytes', 'total_bytes', 'total_packet', 'byte_rate', 'Std_num_proc/s']\n"
          ]
        }
      ],
      "source": [
        "threshold = 0.97\n",
        "\n",
        "# Toma solo la parte superior de la matriz para evitar duplicados\n",
        "upper_tri = correlation_matrix.where(np.triu(np.ones(correlation_matrix.shape), k=1).astype(bool))\n",
        "\n",
        "# Identifica pares altamente correlacionados\n",
        "correlated_pairs = []\n",
        "for col in upper_tri.columns:\n",
        "    for row in upper_tri.index:\n",
        "        if upper_tri.loc[row, col] > threshold:\n",
        "            correlated_pairs.append((row, col))\n",
        "\n",
        "# Muestra los pares detectados\n",
        "print(\"Pares altamente correlacionados (row, col):\")\n",
        "print(correlated_pairs)\n",
        "\n",
        "# Selecciona las columnas a eliminar (de cada par, se elimina la que aparece como columna)\n",
        "alta_corr_pares = [col for col in upper_tri.columns if any(upper_tri[col] > threshold)]\n",
        "\n",
        "# Elimina columnas redundantes\n",
        "X_train = X_train.drop(columns=alta_corr_pares)\n",
        "\n",
        "print(\"Columnas eliminadas:\", alta_corr_pares)"
      ]
    },
    {
      "cell_type": "code",
      "execution_count": null,
      "metadata": {
        "colab": {
          "base_uri": "https://localhost:8080/"
        },
        "id": "FyaMjs-_XftF",
        "outputId": "3bb44984-1e01-4500-e740-04ed61b03b5c"
      },
      "outputs": [
        {
          "data": {
            "text/plain": [
              "(574473, 52)"
            ]
          },
          "execution_count": 17,
          "metadata": {},
          "output_type": "execute_result"
        }
      ],
      "source": [
        "X_train.shape"
      ]
    },
    {
      "cell_type": "code",
      "execution_count": null,
      "metadata": {
        "colab": {
          "base_uri": "https://localhost:8080/"
        },
        "id": "Ml6CZS_8U4QJ",
        "outputId": "768cfc80-8368-49b5-c8d4-f4e5ff6243b8"
      },
      "outputs": [
        {
          "data": {
            "text/html": [
              "<html>\n",
              "<head><meta charset=\"utf-8\" /></head>\n",
              "<body>\n",
              "    <div>            <script src=\"https://cdnjs.cloudflare.com/ajax/libs/mathjax/2.7.5/MathJax.js?config=TeX-AMS-MML_SVG\"></script><script type=\"text/javascript\">if (window.MathJax && window.MathJax.Hub && window.MathJax.Hub.Config) {window.MathJax.Hub.Config({SVG: {font: \"STIX-Web\"}});}</script>                <script type=\"text/javascript\">window.PlotlyConfig = {MathJaxConfig: 'local'};</script>\n",
              "        <script charset=\"utf-8\" src=\"https://cdn.plot.ly/plotly-2.35.2.min.js\"></script>                <div id=\"16ba7c9b-7bbe-4b6c-b565-c67f287b2dc2\" class=\"plotly-graph-div\" style=\"height:525px; width:100%;\"></div>            <script type=\"text/javascript\">                                    window.PLOTLYENV=window.PLOTLYENV || {};                                    if (document.getElementById(\"16ba7c9b-7bbe-4b6c-b565-c67f287b2dc2\")) {                    Plotly.newPlot(                        \"16ba7c9b-7bbe-4b6c-b565-c67f287b2dc2\",                        [{\"alignmentgroup\":\"True\",\"hovertemplate\":\"Variable=%{x}\\u003cbr\\u003eCoeficiente de Correlación=%{marker.color}\\u003cextra\\u003e\\u003c\\u002fextra\\u003e\",\"legendgroup\":\"\",\"marker\":{\"color\":[0.001791741924884366,-0.001012949227903767,-0.0011325816279642439,0.00023390188588789576,-0.00014511747169447395,-0.0005445234681438996,-0.00048685581674758754,0.0009947871530299722,0.0012834538107433882,-0.0012834538107232161,0.0016849594432385463,-0.0016849594432293302,-0.0015145658953172796,-0.0001401397822376548,0.0013285361535772416,0.0005788133604593946,-0.000056555503442637604,-0.0012727030560255655,-0.0012867568584504047,-0.0017467661645354142,0.0011738781165536642,-0.000572385595847428,-0.0006261949130325493,-0.0008869474072593602,-0.00042548380416316997,-0.00114652009788007,-0.0007993468623340098,-0.00040904930055569294,-0.0007641258204182172,-0.0022997939766476205,0.0008355532699905041,0.0018062140287063262,0.00004386295971422863,-0.0013013772251382401,-0.0017705594161953808,9.370148319864112e-6],\"coloraxis\":\"coloraxis\",\"pattern\":{\"shape\":\"\"}},\"name\":\"\",\"offsetgroup\":\"\",\"orientation\":\"v\",\"showlegend\":false,\"textposition\":\"auto\",\"x\":[\"Duration\",\"Scr_bytes\",\"Des_bytes\",\"missed_bytes\",\"Scr_pkts\",\"Scr_ip_bytes\",\"Des_pkts\",\"paket_rate\",\"Scr_packts_ratio\",\"Des_pkts_ratio\",\"Scr_bytes_ratio\",\"Des_bytes_ratio\",\"Avg_user_time\",\"Std_user_time\",\"Avg_nice_time\",\"Std_nice_time\",\"Avg_system_time\",\"Std_system_time\",\"Avg_iowait_time\",\"Std_iowait_time\",\"Avg_ideal_time\",\"Std_ideal_time\",\"Avg_tps\",\"Std_tps\",\"Avg_rtps\",\"Std_rtps\",\"Avg_wtps\",\"Std_wtps\",\"Avg_ldavg_1\",\"Std_ldavg_1\",\"Avg_kbmemused\",\"Std_kbmemused\",\"Avg_num_Proc\\u002fs\",\"Avg_num_cswch\\u002fs\",\"std_num_cswch\\u002fs\",\"OSSEC_alert_level\"],\"xaxis\":\"x\",\"y\":[0.001791741924884366,-0.001012949227903767,-0.0011325816279642439,0.00023390188588789576,-0.00014511747169447395,-0.0005445234681438996,-0.00048685581674758754,0.0009947871530299722,0.0012834538107433882,-0.0012834538107232161,0.0016849594432385463,-0.0016849594432293302,-0.0015145658953172796,-0.0001401397822376548,0.0013285361535772416,0.0005788133604593946,-0.000056555503442637604,-0.0012727030560255655,-0.0012867568584504047,-0.0017467661645354142,0.0011738781165536642,-0.000572385595847428,-0.0006261949130325493,-0.0008869474072593602,-0.00042548380416316997,-0.00114652009788007,-0.0007993468623340098,-0.00040904930055569294,-0.0007641258204182172,-0.0022997939766476205,0.0008355532699905041,0.0018062140287063262,0.00004386295971422863,-0.0013013772251382401,-0.0017705594161953808,9.370148319864112e-6],\"yaxis\":\"y\",\"type\":\"bar\"}],                        {\"template\":{\"data\":{\"histogram2dcontour\":[{\"type\":\"histogram2dcontour\",\"colorbar\":{\"outlinewidth\":0,\"ticks\":\"\"},\"colorscale\":[[0.0,\"#0d0887\"],[0.1111111111111111,\"#46039f\"],[0.2222222222222222,\"#7201a8\"],[0.3333333333333333,\"#9c179e\"],[0.4444444444444444,\"#bd3786\"],[0.5555555555555556,\"#d8576b\"],[0.6666666666666666,\"#ed7953\"],[0.7777777777777778,\"#fb9f3a\"],[0.8888888888888888,\"#fdca26\"],[1.0,\"#f0f921\"]]}],\"choropleth\":[{\"type\":\"choropleth\",\"colorbar\":{\"outlinewidth\":0,\"ticks\":\"\"}}],\"histogram2d\":[{\"type\":\"histogram2d\",\"colorbar\":{\"outlinewidth\":0,\"ticks\":\"\"},\"colorscale\":[[0.0,\"#0d0887\"],[0.1111111111111111,\"#46039f\"],[0.2222222222222222,\"#7201a8\"],[0.3333333333333333,\"#9c179e\"],[0.4444444444444444,\"#bd3786\"],[0.5555555555555556,\"#d8576b\"],[0.6666666666666666,\"#ed7953\"],[0.7777777777777778,\"#fb9f3a\"],[0.8888888888888888,\"#fdca26\"],[1.0,\"#f0f921\"]]}],\"heatmap\":[{\"type\":\"heatmap\",\"colorbar\":{\"outlinewidth\":0,\"ticks\":\"\"},\"colorscale\":[[0.0,\"#0d0887\"],[0.1111111111111111,\"#46039f\"],[0.2222222222222222,\"#7201a8\"],[0.3333333333333333,\"#9c179e\"],[0.4444444444444444,\"#bd3786\"],[0.5555555555555556,\"#d8576b\"],[0.6666666666666666,\"#ed7953\"],[0.7777777777777778,\"#fb9f3a\"],[0.8888888888888888,\"#fdca26\"],[1.0,\"#f0f921\"]]}],\"heatmapgl\":[{\"type\":\"heatmapgl\",\"colorbar\":{\"outlinewidth\":0,\"ticks\":\"\"},\"colorscale\":[[0.0,\"#0d0887\"],[0.1111111111111111,\"#46039f\"],[0.2222222222222222,\"#7201a8\"],[0.3333333333333333,\"#9c179e\"],[0.4444444444444444,\"#bd3786\"],[0.5555555555555556,\"#d8576b\"],[0.6666666666666666,\"#ed7953\"],[0.7777777777777778,\"#fb9f3a\"],[0.8888888888888888,\"#fdca26\"],[1.0,\"#f0f921\"]]}],\"contourcarpet\":[{\"type\":\"contourcarpet\",\"colorbar\":{\"outlinewidth\":0,\"ticks\":\"\"}}],\"contour\":[{\"type\":\"contour\",\"colorbar\":{\"outlinewidth\":0,\"ticks\":\"\"},\"colorscale\":[[0.0,\"#0d0887\"],[0.1111111111111111,\"#46039f\"],[0.2222222222222222,\"#7201a8\"],[0.3333333333333333,\"#9c179e\"],[0.4444444444444444,\"#bd3786\"],[0.5555555555555556,\"#d8576b\"],[0.6666666666666666,\"#ed7953\"],[0.7777777777777778,\"#fb9f3a\"],[0.8888888888888888,\"#fdca26\"],[1.0,\"#f0f921\"]]}],\"surface\":[{\"type\":\"surface\",\"colorbar\":{\"outlinewidth\":0,\"ticks\":\"\"},\"colorscale\":[[0.0,\"#0d0887\"],[0.1111111111111111,\"#46039f\"],[0.2222222222222222,\"#7201a8\"],[0.3333333333333333,\"#9c179e\"],[0.4444444444444444,\"#bd3786\"],[0.5555555555555556,\"#d8576b\"],[0.6666666666666666,\"#ed7953\"],[0.7777777777777778,\"#fb9f3a\"],[0.8888888888888888,\"#fdca26\"],[1.0,\"#f0f921\"]]}],\"mesh3d\":[{\"type\":\"mesh3d\",\"colorbar\":{\"outlinewidth\":0,\"ticks\":\"\"}}],\"scatter\":[{\"fillpattern\":{\"fillmode\":\"overlay\",\"size\":10,\"solidity\":0.2},\"type\":\"scatter\"}],\"parcoords\":[{\"type\":\"parcoords\",\"line\":{\"colorbar\":{\"outlinewidth\":0,\"ticks\":\"\"}}}],\"scatterpolargl\":[{\"type\":\"scatterpolargl\",\"marker\":{\"colorbar\":{\"outlinewidth\":0,\"ticks\":\"\"}}}],\"bar\":[{\"error_x\":{\"color\":\"#2a3f5f\"},\"error_y\":{\"color\":\"#2a3f5f\"},\"marker\":{\"line\":{\"color\":\"#E5ECF6\",\"width\":0.5},\"pattern\":{\"fillmode\":\"overlay\",\"size\":10,\"solidity\":0.2}},\"type\":\"bar\"}],\"scattergeo\":[{\"type\":\"scattergeo\",\"marker\":{\"colorbar\":{\"outlinewidth\":0,\"ticks\":\"\"}}}],\"scatterpolar\":[{\"type\":\"scatterpolar\",\"marker\":{\"colorbar\":{\"outlinewidth\":0,\"ticks\":\"\"}}}],\"histogram\":[{\"marker\":{\"pattern\":{\"fillmode\":\"overlay\",\"size\":10,\"solidity\":0.2}},\"type\":\"histogram\"}],\"scattergl\":[{\"type\":\"scattergl\",\"marker\":{\"colorbar\":{\"outlinewidth\":0,\"ticks\":\"\"}}}],\"scatter3d\":[{\"type\":\"scatter3d\",\"line\":{\"colorbar\":{\"outlinewidth\":0,\"ticks\":\"\"}},\"marker\":{\"colorbar\":{\"outlinewidth\":0,\"ticks\":\"\"}}}],\"scattermapbox\":[{\"type\":\"scattermapbox\",\"marker\":{\"colorbar\":{\"outlinewidth\":0,\"ticks\":\"\"}}}],\"scatterternary\":[{\"type\":\"scatterternary\",\"marker\":{\"colorbar\":{\"outlinewidth\":0,\"ticks\":\"\"}}}],\"scattercarpet\":[{\"type\":\"scattercarpet\",\"marker\":{\"colorbar\":{\"outlinewidth\":0,\"ticks\":\"\"}}}],\"carpet\":[{\"aaxis\":{\"endlinecolor\":\"#2a3f5f\",\"gridcolor\":\"white\",\"linecolor\":\"white\",\"minorgridcolor\":\"white\",\"startlinecolor\":\"#2a3f5f\"},\"baxis\":{\"endlinecolor\":\"#2a3f5f\",\"gridcolor\":\"white\",\"linecolor\":\"white\",\"minorgridcolor\":\"white\",\"startlinecolor\":\"#2a3f5f\"},\"type\":\"carpet\"}],\"table\":[{\"cells\":{\"fill\":{\"color\":\"#EBF0F8\"},\"line\":{\"color\":\"white\"}},\"header\":{\"fill\":{\"color\":\"#C8D4E3\"},\"line\":{\"color\":\"white\"}},\"type\":\"table\"}],\"barpolar\":[{\"marker\":{\"line\":{\"color\":\"#E5ECF6\",\"width\":0.5},\"pattern\":{\"fillmode\":\"overlay\",\"size\":10,\"solidity\":0.2}},\"type\":\"barpolar\"}],\"pie\":[{\"automargin\":true,\"type\":\"pie\"}]},\"layout\":{\"autotypenumbers\":\"strict\",\"colorway\":[\"#636efa\",\"#EF553B\",\"#00cc96\",\"#ab63fa\",\"#FFA15A\",\"#19d3f3\",\"#FF6692\",\"#B6E880\",\"#FF97FF\",\"#FECB52\"],\"font\":{\"color\":\"#2a3f5f\"},\"hovermode\":\"closest\",\"hoverlabel\":{\"align\":\"left\"},\"paper_bgcolor\":\"white\",\"plot_bgcolor\":\"#E5ECF6\",\"polar\":{\"bgcolor\":\"#E5ECF6\",\"angularaxis\":{\"gridcolor\":\"white\",\"linecolor\":\"white\",\"ticks\":\"\"},\"radialaxis\":{\"gridcolor\":\"white\",\"linecolor\":\"white\",\"ticks\":\"\"}},\"ternary\":{\"bgcolor\":\"#E5ECF6\",\"aaxis\":{\"gridcolor\":\"white\",\"linecolor\":\"white\",\"ticks\":\"\"},\"baxis\":{\"gridcolor\":\"white\",\"linecolor\":\"white\",\"ticks\":\"\"},\"caxis\":{\"gridcolor\":\"white\",\"linecolor\":\"white\",\"ticks\":\"\"}},\"coloraxis\":{\"colorbar\":{\"outlinewidth\":0,\"ticks\":\"\"}},\"colorscale\":{\"sequential\":[[0.0,\"#0d0887\"],[0.1111111111111111,\"#46039f\"],[0.2222222222222222,\"#7201a8\"],[0.3333333333333333,\"#9c179e\"],[0.4444444444444444,\"#bd3786\"],[0.5555555555555556,\"#d8576b\"],[0.6666666666666666,\"#ed7953\"],[0.7777777777777778,\"#fb9f3a\"],[0.8888888888888888,\"#fdca26\"],[1.0,\"#f0f921\"]],\"sequentialminus\":[[0.0,\"#0d0887\"],[0.1111111111111111,\"#46039f\"],[0.2222222222222222,\"#7201a8\"],[0.3333333333333333,\"#9c179e\"],[0.4444444444444444,\"#bd3786\"],[0.5555555555555556,\"#d8576b\"],[0.6666666666666666,\"#ed7953\"],[0.7777777777777778,\"#fb9f3a\"],[0.8888888888888888,\"#fdca26\"],[1.0,\"#f0f921\"]],\"diverging\":[[0,\"#8e0152\"],[0.1,\"#c51b7d\"],[0.2,\"#de77ae\"],[0.3,\"#f1b6da\"],[0.4,\"#fde0ef\"],[0.5,\"#f7f7f7\"],[0.6,\"#e6f5d0\"],[0.7,\"#b8e186\"],[0.8,\"#7fbc41\"],[0.9,\"#4d9221\"],[1,\"#276419\"]]},\"xaxis\":{\"gridcolor\":\"white\",\"linecolor\":\"white\",\"ticks\":\"\",\"title\":{\"standoff\":15},\"zerolinecolor\":\"white\",\"automargin\":true,\"zerolinewidth\":2},\"yaxis\":{\"gridcolor\":\"white\",\"linecolor\":\"white\",\"ticks\":\"\",\"title\":{\"standoff\":15},\"zerolinecolor\":\"white\",\"automargin\":true,\"zerolinewidth\":2},\"scene\":{\"xaxis\":{\"backgroundcolor\":\"#E5ECF6\",\"gridcolor\":\"white\",\"linecolor\":\"white\",\"showbackground\":true,\"ticks\":\"\",\"zerolinecolor\":\"white\",\"gridwidth\":2},\"yaxis\":{\"backgroundcolor\":\"#E5ECF6\",\"gridcolor\":\"white\",\"linecolor\":\"white\",\"showbackground\":true,\"ticks\":\"\",\"zerolinecolor\":\"white\",\"gridwidth\":2},\"zaxis\":{\"backgroundcolor\":\"#E5ECF6\",\"gridcolor\":\"white\",\"linecolor\":\"white\",\"showbackground\":true,\"ticks\":\"\",\"zerolinecolor\":\"white\",\"gridwidth\":2}},\"shapedefaults\":{\"line\":{\"color\":\"#2a3f5f\"}},\"annotationdefaults\":{\"arrowcolor\":\"#2a3f5f\",\"arrowhead\":0,\"arrowwidth\":1},\"geo\":{\"bgcolor\":\"white\",\"landcolor\":\"#E5ECF6\",\"subunitcolor\":\"white\",\"showland\":true,\"showlakes\":true,\"lakecolor\":\"white\"},\"title\":{\"x\":0.05},\"mapbox\":{\"style\":\"light\"}}},\"xaxis\":{\"anchor\":\"y\",\"domain\":[0.0,1.0],\"title\":{\"text\":\"Variable\"}},\"yaxis\":{\"anchor\":\"x\",\"domain\":[0.0,1.0],\"title\":{\"text\":\"Coeficiente de Correlación\"}},\"coloraxis\":{\"colorbar\":{\"title\":{\"text\":\"Coeficiente de Correlación\"}},\"colorscale\":[[0.0,\"#0d0887\"],[0.1111111111111111,\"#46039f\"],[0.2222222222222222,\"#7201a8\"],[0.3333333333333333,\"#9c179e\"],[0.4444444444444444,\"#bd3786\"],[0.5555555555555556,\"#d8576b\"],[0.6666666666666666,\"#ed7953\"],[0.7777777777777778,\"#fb9f3a\"],[0.8888888888888888,\"#fdca26\"],[1.0,\"#f0f921\"]]},\"legend\":{\"tracegroupgap\":0},\"title\":{\"text\":\"Correlación de Variables con las Variables Objetivo\"},\"barmode\":\"relative\"},                        {\"responsive\": true}                    ).then(function(){\n",
              "                            \n",
              "var gd = document.getElementById('16ba7c9b-7bbe-4b6c-b565-c67f287b2dc2');\n",
              "var x = new MutationObserver(function (mutations, observer) {{\n",
              "        var display = window.getComputedStyle(gd).display;\n",
              "        if (!display || display === 'none') {{\n",
              "            console.log([gd, 'removed!']);\n",
              "            Plotly.purge(gd);\n",
              "            observer.disconnect();\n",
              "        }}\n",
              "}});\n",
              "\n",
              "// Listen for the removal of the full notebook cells\n",
              "var notebookContainer = gd.closest('#notebook-container');\n",
              "if (notebookContainer) {{\n",
              "    x.observe(notebookContainer, {childList: true});\n",
              "}}\n",
              "\n",
              "// Listen for the clearing of the current output cell\n",
              "var outputEl = gd.closest('.output');\n",
              "if (outputEl) {{\n",
              "    x.observe(outputEl, {childList: true});\n",
              "}}\n",
              "\n",
              "                        })                };                            </script>        </div>\n",
              "</body>\n",
              "</html>"
            ]
          },
          "metadata": {},
          "output_type": "display_data"
        }
      ],
      "source": [
        "numeric_cols = X_train.select_dtypes(include=['float64', 'int64']).columns\n",
        "\n",
        "correlations_with_target = X_train[numeric_cols].corrwith(y_class3)\n",
        "correlations_df = correlations_with_target.reset_index()\n",
        "correlations_df.columns = ['Feature', 'Correlation']  # Renombrar las columnas\n",
        "\n",
        "# Crear un gráfico de barras de las correlaciones para cada una de las variables objetivo\n",
        "fig = px.bar(\n",
        "    correlations_df,\n",
        "    x=\"Feature\",\n",
        "    y=\"Correlation\",\n",
        "    title='Correlación de Variables con las Variables Objetivo',\n",
        "    labels={'Correlation': 'Coeficiente de Correlación', 'Feature': 'Variable'},\n",
        "    color='Correlation',  # Color según el valor de la correlación\n",
        "    color_continuous_scale=px.colors.sequential.Plasma\n",
        ")\n",
        "\n",
        "# Mostrar el gráfico\n",
        "fig.show()"
      ]
    },
    {
      "cell_type": "code",
      "execution_count": null,
      "metadata": {
        "colab": {
          "base_uri": "https://localhost:8080/"
        },
        "id": "SjV-MnbiZLP1",
        "outputId": "d75a5e16-58e0-438f-edc4-ec2a132417dd"
      },
      "outputs": [
        {
          "name": "stdout",
          "output_type": "stream",
          "text": [
            "Columnas eliminadas: ['Avg_num_Proc/s', 'Avg_wtps', 'Std_iowait_time', 'missed_bytes', 'Std_kbmemused', 'Std_tps', 'Std_ideal_time', 'Std_ldavg_1']\n"
          ]
        }
      ],
      "source": [
        "threshold = 0.025\n",
        "\n",
        "# Calculamos la correlación con la variable objetivo\n",
        "target_correlation = X_train[numeric_cols].corrwith(y_train_class3).abs().sort_values(ascending=True)\n",
        "\n",
        "# Nos quedamos solo con las características que tengan correlación >= 0.1\n",
        "baja_corr_respecto_obj = target_correlation[target_correlation < threshold].index.tolist()\n",
        "\n",
        "# # Eliminamos las que no cumplan el umbral\n",
        "X_train = X_train.drop(columns=baja_corr_respecto_obj)\n",
        "\n",
        "print(\"Columnas eliminadas:\", baja_corr_respecto_obj)"
      ]
    },
    {
      "cell_type": "code",
      "execution_count": null,
      "metadata": {
        "colab": {
          "base_uri": "https://localhost:8080/"
        },
        "id": "-Z63ZrKLZYxa",
        "outputId": "a785fb1b-ab75-41cf-ff4d-e89f725b7ba4"
      },
      "outputs": [
        {
          "data": {
            "text/plain": [
              "(574473, 44)"
            ]
          },
          "execution_count": 20,
          "metadata": {},
          "output_type": "execute_result"
        }
      ],
      "source": [
        "X_train.shape"
      ]
    },
    {
      "cell_type": "code",
      "execution_count": null,
      "metadata": {
        "colab": {
          "base_uri": "https://localhost:8080/"
        },
        "id": "xm5mKi3oZyAY",
        "outputId": "c8ef6970-75be-42e6-f2e3-aaa1ed2a6ca8"
      },
      "outputs": [
        {
          "data": {
            "text/plain": [
              "(123106, 44)"
            ]
          },
          "execution_count": 21,
          "metadata": {},
          "output_type": "execute_result"
        }
      ],
      "source": [
        "X_val = X_val.drop(columns=alta_corr_pares)\n",
        "X_val = X_val.drop(columns=baja_corr_respecto_obj)\n",
        "X_val.shape"
      ]
    },
    {
      "cell_type": "markdown",
      "metadata": {
        "id": "DHd1Ohe8DLZs"
      },
      "source": [
        "#### <font color='Red'>Imputadores, codificadores, discretizadores y scalers</font>"
      ]
    },
    {
      "cell_type": "markdown",
      "metadata": {
        "id": "y35_A15FDj7b"
      },
      "source": [
        "##### <font color='Red'>Diccionarios</font>"
      ]
    },
    {
      "cell_type": "code",
      "execution_count": null,
      "metadata": {
        "id": "QPrOSpnMDpQi"
      },
      "outputs": [],
      "source": [
        "# Definir los imputadores\n",
        "imputers = {\n",
        "    'categorical': {\n",
        "        'most_frequent': SimpleImputer(strategy='most_frequent'),\n",
        "    },\n",
        "    'numeric': {\n",
        "        'mean': SimpleImputer(strategy='mean'),\n",
        "        'median': SimpleImputer(strategy='median')\n",
        "    }\n",
        "}\n",
        "\n",
        "\n",
        "# Definir codificadores\n",
        "encoders = {\n",
        "    \"one_hot\": OneHotEncoder(sparse_output=False, handle_unknown=\"ignore\"),  # Codificación One-Hot\n",
        "    \"ordinal\": OrdinalEncoder(handle_unknown=\"use_encoded_value\", unknown_value=-1)  # Codificación ordinal\n",
        "}\n",
        "\n",
        "\n",
        "# Definir discretizadores\n",
        "discretizers = {\n",
        "    \"k_bins\": KBinsDiscretizer(n_bins=5, encode='ordinal', strategy='uniform'),  # Discretización uniforme\n",
        "    \"quantile_bins\": KBinsDiscretizer(n_bins=5, encode='ordinal', strategy='quantile')  # Discretización en percentiles\n",
        "}\n",
        "\n",
        "scalers = {\n",
        "    \"robust\": RobustScaler()\n",
        "}"
      ]
    },
    {
      "cell_type": "markdown",
      "metadata": {
        "id": "tPgy9pA7DrMb"
      },
      "source": [
        "##### <font color='Red'>Imputacion de datos faltantes, codificaciones, discretizaciones y scaler</font>"
      ]
    },
    {
      "cell_type": "code",
      "execution_count": null,
      "metadata": {
        "id": "qxyMzfRSDqmN"
      },
      "outputs": [],
      "source": [
        "# Identificar columnas categóricas, numéricas y booleanas\n",
        "categorical_cols = X_train.select_dtypes(include=['object']).columns\n",
        "\n",
        "boolean_cols = X_train.select_dtypes(include=['bool']).columns\n",
        "if boolean_cols.any():  # Si hay columnas booleanas\n",
        "    X_train[boolean_cols] = X_train[boolean_cols].astype(int)\n",
        "\n",
        "numerical_cols = X_train.select_dtypes(include=['float64', 'int64']).columns"
      ]
    },
    {
      "cell_type": "code",
      "execution_count": null,
      "metadata": {
        "id": "RM5bQkXgEUfC"
      },
      "outputs": [],
      "source": [
        "# Seleccionar el imputador deseado para características categóricas\n",
        "imputer_categorical = imputers['categorical']['most_frequent']\n",
        "X_train[categorical_cols] = imputer_categorical.fit_transform(X_train[categorical_cols])\n",
        "X_val[categorical_cols] = imputer_categorical.transform(X_val[categorical_cols])\n",
        "\n",
        "\n",
        "# Seleccionar el imputador deseado para características numéricas\n",
        "imputer_numeric = imputers['numeric']['mean']\n",
        "X_train[numerical_cols] = imputer_numeric.fit_transform(X_train[numerical_cols])\n",
        "X_val[numerical_cols] = imputer_numeric.transform(X_val[numerical_cols])"
      ]
    },
    {
      "cell_type": "code",
      "execution_count": null,
      "metadata": {
        "id": "5-PbBso9Fauv"
      },
      "outputs": [],
      "source": [
        "# Seleccionar el scaler deseado\n",
        "scaler = scalers['robust']\n",
        "# Ajustar el scaler con el set de entrenamiento y transformarlo\n",
        "# Se utiliza fit_transform en entrenamiento para calcular la media y desviación (o mediana y IQR en el caso de RobustScaler)\n",
        "X_train_scaled = scaler.fit_transform(X_train[numerical_cols])\n",
        "\n",
        "# Transformar el set de validación utilizando los parámetros calculados en el entrenamiento\n",
        "# Así se evita data leaking, ya que no se recalculan los parámetros con datos de validación\n",
        "X_val_scaled = scaler.transform(X_val[numerical_cols])\n",
        "\n",
        "\n",
        "# Convertir las matrices escaladas a DataFrames\n",
        "X_train_scaled_df = pd.DataFrame(X_train_scaled, columns=[f\"{col}_scaled\" for col in numerical_cols], index=X_train.index)\n",
        "X_val_scaled_df = pd.DataFrame(X_val_scaled, columns=[f\"{col}_scaled\" for col in numerical_cols], index=X_val.index)"
      ]
    },
    {
      "cell_type": "code",
      "execution_count": null,
      "metadata": {
        "id": "JTGJCEbBE08p"
      },
      "outputs": [],
      "source": [
        "# Seleccionar el discretizador deseado\n",
        "discretizer = discretizers['k_bins']  # Puedes cambiar a 'quantile_bins' si lo prefieres\n",
        "X_train_discrete = discretizer.fit_transform(X_train[numerical_cols])\n",
        "X_val_discrete = discretizer.transform(X_val[numerical_cols])\n",
        "\n",
        "\n",
        "# Convertir las matrices discretizadas a DataFrames\n",
        "X_train_discrete_df = pd.DataFrame(X_train_discrete, columns=[f\"{col}_discrete\" for col in numerical_cols], index=X_train.index)\n",
        "X_val_discrete_df = pd.DataFrame(X_val_discrete,  columns=[f\"{col}_discrete\" for col in numerical_cols], index=X_val.index)"
      ]
    },
    {
      "cell_type": "code",
      "execution_count": null,
      "metadata": {
        "id": "jqKXEXPKwUVp"
      },
      "outputs": [],
      "source": [
        "# Combinar las características numéricas escaladas y discretizadas\n",
        "processed_numeric_train = pd.concat([X_train_scaled_df, X_train_discrete_df], axis=1)\n",
        "processed_numeric_val = pd.concat([X_val_scaled_df, X_val_discrete_df], axis=1)\n",
        "\n",
        "\n",
        "# processed_numeric_train = X_train_scaled_df\n",
        "# processed_numeric_val = X_val_scaled_df\n",
        "\n",
        "\n",
        "# processed_numeric_train = X_train_discrete_df\n",
        "# processed_numeric_val = X_val_discrete_df"
      ]
    },
    {
      "cell_type": "code",
      "execution_count": null,
      "metadata": {
        "id": "YxPZpBZrG3t2"
      },
      "outputs": [],
      "source": [
        "# Seleccionar el codificadores deseado para\n",
        "encoder = encoders['one_hot']\n",
        "X_train_encoded = encoder.fit_transform(X_train[categorical_cols])\n",
        "X_val_encoded = encoder.transform(X_val[categorical_cols])\n",
        "\n",
        "\n",
        "# Obtener los nombres de las nuevas columnas codificadas\n",
        "encoded_cols = encoder.get_feature_names_out(categorical_cols)\n",
        "\n",
        "\n",
        "# Convertir las matrices codificadas a DataFrames\n",
        "X_train_encoded_df = pd.DataFrame(X_train_encoded, columns=encoded_cols, index=X_train.index)\n",
        "X_val_encoded_df = pd.DataFrame(X_val_encoded, columns=encoded_cols, index=X_val.index)"
      ]
    },
    {
      "cell_type": "code",
      "execution_count": null,
      "metadata": {
        "id": "fwgAyzQoHhit"
      },
      "outputs": [],
      "source": [
        "# Combinar con las características categóricas codificadas\n",
        "X_train_processed = pd.concat([processed_numeric_train, X_train_encoded_df], axis=1)\n",
        "X_val_processed = pd.concat([processed_numeric_val, X_val_encoded_df], axis=1)"
      ]
    },
    {
      "cell_type": "code",
      "execution_count": null,
      "metadata": {
        "id": "7opQMt6zHj2u"
      },
      "outputs": [],
      "source": [
        "# Opcional: Reordenar las columnas si es necesario\n",
        "X_train_processed = X_train_processed.reindex(sorted(X_train_processed.columns), axis=1)\n",
        "X_val_processed = X_val_processed.reindex(sorted(X_val_processed.columns), axis=1)"
      ]
    },
    {
      "cell_type": "code",
      "execution_count": null,
      "metadata": {
        "colab": {
          "base_uri": "https://localhost:8080/"
        },
        "id": "XrHgLNQnQfdv",
        "outputId": "c9fb81da-e370-4efb-d16b-7b626dcbab62"
      },
      "outputs": [
        {
          "data": {
            "text/plain": [
              "104"
            ]
          },
          "execution_count": 31,
          "metadata": {},
          "output_type": "execute_result"
        }
      ],
      "source": [
        "len(X_train_processed.columns.to_list())"
      ]
    },
    {
      "cell_type": "code",
      "execution_count": null,
      "metadata": {
        "id": "w4lkI8jeTBpp"
      },
      "outputs": [],
      "source": [
        "# 1. Transformaciones Aplicadas:\n",
        "#    - Variables escaladas (ej. 'Avg_ideal_time_scaled')\n",
        "#    - Variables discretizadas (ej. 'Avg_ideal_time_scaled_discrete')\n",
        "#    - Variables codificadas one-hot (ej. 'Des_IP_10.0.1.5')\n",
        "#\n",
        "# 2. Representaciones y sus Beneficios:\n",
        "#    - Escalado:\n",
        "#         - Normaliza variables numéricas.\n",
        "#         - Beneficia a algoritmos sensibles a la escala:\n",
        "#             * SVM, KNN, regresión lineal y logística, redes neuronales.\n",
        "#\n",
        "#    - Discretización:\n",
        "#         - Convierte variables continuas en categorías.\n",
        "#         - Puede capturar relaciones no lineales.\n",
        "#         - Beneficia a modelos que manejan bien variables categóricas, como:\n",
        "#             * Árboles de decisión, random forests, gradient boosting.\n",
        "#\n",
        "#    - Codificación One-Hot:\n",
        "#         - Transforma variables categóricas en múltiples columnas binarias.\n",
        "#         - Es útil en modelos que pueden gestionar alta dimensionalidad,\n",
        "#           pero cuidado con la alta cardinalidad.\n",
        "#\n",
        "# 3. Recomendación:\n",
        "#    - Seleccionar una única representación por variable según el modelo a utilizar.\n",
        "#\n",
        "# 4. Mejora del Pipeline:\n",
        "#    - Revisar si la discretización aporta valor al modelo.\n",
        "#    - Reducir la cardinalidad de variables categóricas.\n",
        "#    - Integrar transformaciones en un único pipeline para asegurar consistencia y evitar errores."
      ]
    },
    {
      "cell_type": "code",
      "execution_count": null,
      "metadata": {
        "id": "d_4NFvUAOSNG"
      },
      "outputs": [],
      "source": [
        "from collections import Counter\n",
        "\n",
        "def seleccionar_variables_pca(X_train, X_val, n_components=0.95, num_top_features=10):\n",
        "    \"\"\"\n",
        "    Aplica PCA para seleccionar las características más influyentes, pero mantiene los datos originales.\n",
        "\n",
        "    Parámetros:\n",
        "        - X_train: DataFrame de entrenamiento\n",
        "        - X_val: DataFrame de validación\n",
        "        - n_components: float/int, cantidad de componentes principales o porcentaje de varianza a retener\n",
        "        - num_top_features: int, número de características más influyentes a seleccionar\n",
        "\n",
        "    Retorna:\n",
        "        - X_train_filtrado: DataFrame de entrenamiento con las características seleccionadas\n",
        "        - X_val_filtrado: DataFrame de validación con las características seleccionadas\n",
        "    \"\"\"\n",
        "\n",
        "    # Aplicar PCA (sin guardar la transformación)\n",
        "    pca = PCA(n_components=n_components)\n",
        "    pca.fit(X_train)  # Solo ajustamos el modelo, no transformamos los datos\n",
        "\n",
        "    # Obtener nombres originales de las variables\n",
        "    original_feature_names = np.array(X_train.columns)\n",
        "\n",
        "    # Contador de importancia de características en PCA\n",
        "    feature_counter = Counter()\n",
        "\n",
        "    for comp in pca.components_:\n",
        "        top_indices = np.argsort(np.abs(comp))[-num_top_features:]  # Índices de las más importantes\n",
        "        top_features = original_feature_names[top_indices]  # Obtener nombres\n",
        "        feature_counter.update(top_features)  # Contar ocurrencias\n",
        "\n",
        "    # Seleccionar las variables más influyentes ordenadas por frecuencia de aparición\n",
        "    variables_pca = [feature for feature, _ in feature_counter.most_common()]\n",
        "\n",
        "    # Filtrar las variables seleccionadas en los conjuntos de datos\n",
        "    X_train_filtrado = X_train[variables_pca]\n",
        "    X_val_filtrado = X_val[variables_pca]\n",
        "\n",
        "    return X_train_filtrado, X_val_filtrado"
      ]
    },
    {
      "cell_type": "code",
      "execution_count": null,
      "metadata": {
        "id": "HCT1x8xoOuhv"
      },
      "outputs": [],
      "source": [
        "# # Entrenar el modelo RandomForest con los pesos\n",
        "# rf = RandomForestClassifier(n_estimators=100, random_state=42)\n",
        "# rf.fit(X_train_processed, y_train_class3, sample_weight=sample_weight_train)\n",
        "\n",
        "# # Obtener importancia de características\n",
        "# feature_importances = pd.DataFrame({\n",
        "#     'Feature': X_train_processed.columns,\n",
        "#     'Importance': rf.feature_importances_\n",
        "# }).sort_values(by='Importance', ascending=False)"
      ]
    },
    {
      "cell_type": "code",
      "execution_count": null,
      "metadata": {
        "id": "xgPIVs3nQQzz"
      },
      "outputs": [],
      "source": [
        "# caracteristicas_imp_rf = feature_importances.head(150)\n",
        "# caracteristicas_imp_rf = caracteristicas_imp_rf.Feature.to_list()\n",
        "# print(caracteristicas_imp_rf)"
      ]
    },
    {
      "cell_type": "code",
      "execution_count": null,
      "metadata": {
        "id": "gL7SZfJ4Q5Z1"
      },
      "outputs": [],
      "source": [
        "# X_train_processed = X_train_processed[caracteristicas_imp_rf]\n",
        "# X_val_processed = X_val_processed[caracteristicas_imp_rf]"
      ]
    },
    {
      "cell_type": "code",
      "execution_count": null,
      "metadata": {
        "id": "XhYPtTsXSTa0"
      },
      "outputs": [],
      "source": [
        "# len(X_train_processed.columns.to_list())\n",
        "# len(X_val_processed.columns.to_list())"
      ]
    },
    {
      "cell_type": "code",
      "execution_count": null,
      "metadata": {
        "id": "ngpGW2_cOacY"
      },
      "outputs": [],
      "source": [
        " X_train_processed, X_val_processed = seleccionar_variables_pca(X_train_processed, X_val_processed, n_components=0.95, num_top_features=10)"
      ]
    },
    {
      "cell_type": "code",
      "execution_count": null,
      "metadata": {
        "colab": {
          "base_uri": "https://localhost:8080/"
        },
        "id": "CJ1DaIUgPNku",
        "outputId": "2164b1b2-a2d4-44f2-8741-39c851610f2c"
      },
      "outputs": [
        {
          "data": {
            "text/plain": [
              "(574473, 35)"
            ]
          },
          "execution_count": 42,
          "metadata": {},
          "output_type": "execute_result"
        }
      ],
      "source": [
        "X_train_processed.shape"
      ]
    },
    {
      "cell_type": "markdown",
      "metadata": {
        "id": "C5KTYEeF01VJ"
      },
      "source": [
        "# <font color='Red'>Implementacion de modelos con Train y Validacion</font>"
      ]
    },
    {
      "cell_type": "markdown",
      "metadata": {
        "id": "7-56jneH6e4R"
      },
      "source": [
        "## <font color='Red'>Funciones para la implementacion</font>"
      ]
    },
    {
      "cell_type": "code",
      "execution_count": null,
      "metadata": {
        "id": "wWzNX69c2x3K"
      },
      "outputs": [],
      "source": [
        "def create_pipeline(model=None,\n",
        "                   imputer_categorical=None,\n",
        "                   imputer_numeric=None,\n",
        "                   discretizer=None,\n",
        "                   encoders=None,\n",
        "                   categorical_features=None,\n",
        "                   numerical_features=None,\n",
        "                   feature_selection=None):\n",
        "    \"\"\"\n",
        "    Crea un pipeline de preprocesamiento y modelo.\n",
        "\n",
        "    Parámetros:\n",
        "    - model: Un objeto de modelo de sklearn que tiene métodos `fit` y `predict`.\n",
        "    - imputer_categorical: Instancia de imputador para características categóricas.\n",
        "    - imputer_numeric: Instancia de imputador para características numéricas.\n",
        "    - discretizer: Instancia de discretizador para características numéricas.\n",
        "    - encoder: Instancia de codificador para características categóricas.\n",
        "    - categorical_features: Lista de nombres de características categóricas.\n",
        "    - numerical_features: Lista de nombres de características numéricas.\n",
        "    - feature_selection: Objeto de selección de características (e.g., RFE).\n",
        "    \"\"\"\n",
        "\n",
        "    # Asegurarse de que categorical_features y numerical_features sean listas\n",
        "    if categorical_features is not None and isinstance(categorical_features, pd.Index):\n",
        "        categorical_features = categorical_features.tolist()\n",
        "\n",
        "    if numerical_features is not None and isinstance(numerical_features, pd.Index):\n",
        "        numerical_features = numerical_features.tolist()\n",
        "\n",
        "    # Pipeline para características numéricas\n",
        "    numeric_pipeline_steps = []\n",
        "    if imputer_numeric:\n",
        "        numeric_pipeline_steps.append(('imputer', imputer_numeric))\n",
        "    if discretizer:\n",
        "        numeric_pipeline_steps.append(('discretizer', discretizer))\n",
        "    numeric_pipeline_steps.append(('scaler', RobustScaler()))\n",
        "\n",
        "    numeric_pipeline = Pipeline(numeric_pipeline_steps) if numeric_pipeline_steps else 'passthrough'\n",
        "\n",
        "    # Pipeline para características categóricas\n",
        "    categorical_pipeline_steps = []\n",
        "    if imputer_categorical:\n",
        "        categorical_pipeline_steps.append(('imputer', imputer_categorical))\n",
        "    if encoders:\n",
        "        categorical_pipeline_steps.append(('encoder', encoders))\n",
        "\n",
        "    categorical_pipeline = Pipeline(categorical_pipeline_steps) if categorical_pipeline_steps else 'passthrough'\n",
        "\n",
        "    # Crear el ColumnTransformer con pipelines secuenciales\n",
        "    if numerical_features and categorical_features:\n",
        "        preprocessor = ColumnTransformer(\n",
        "            transformers=[\n",
        "                ('num', numeric_pipeline, numerical_features),\n",
        "                ('cat', categorical_pipeline, categorical_features)\n",
        "            ],\n",
        "            remainder='passthrough',\n",
        "            verbose_feature_names_out=True)\n",
        "    else:\n",
        "        preprocessor = 'passthrough'\n",
        "\n",
        "    # Crear el pipeline completo\n",
        "    pipeline = Pipeline(steps=[\n",
        "        ('preprocessor', preprocessor),\n",
        "        # ('feature_selection', feature_selection),\n",
        "        ('model', model)\n",
        "    ])\n",
        "\n",
        "    return pipeline"
      ]
    },
    {
      "cell_type": "code",
      "execution_count": null,
      "metadata": {
        "id": "RxpOi8YY1gzW"
      },
      "outputs": [],
      "source": [
        "def optimize(random_grid, estimator, X, y, param_grid, random_state=None, n_iter=None, scoring=None, cv=None, n_jobs=None, refit=True,\n",
        "             verbose=0, pre_dispatch='2*n_jobs', error_score=np.nan, return_train_score=False):\n",
        "\n",
        "  \"\"\"\n",
        "    estimator:\n",
        "        El estimador (modelo) que se quiere optimizar.\n",
        "\n",
        "    X:\n",
        "        Datos de entrada.\n",
        "\n",
        "    y:\n",
        "        Etiquetas de salida.\n",
        "\n",
        "    param_grid:\n",
        "        Diccionario con los hiperparámetros a probar. **Este parámetro es obligatorio**.\n",
        "\n",
        "    scoring:\n",
        "        Métrica de evaluación. **Valor por defecto**: `None`, lo que significa que se usará la métrica por defecto:\n",
        "        - Para clasificación: `accuracy`.\n",
        "        - Para regresión: `r2`.\n",
        "        También puede ser un diccionario para evaluar múltiples métricas.\n",
        "\n",
        "    cv:\n",
        "        Número de particiones para la validación cruzada. **Valor por defecto**: `None`, lo que significa que se usará 5 particiones (`cv=5`).\n",
        "\n",
        "    n_jobs:\n",
        "        Número de trabajos paralelos para la búsqueda. **Valor por defecto**: `None` (1 núcleo).\n",
        "        - `-1` para usar todos los núcleos disponibles.\n",
        "\n",
        "    refit:\n",
        "        Si es `True`, ajusta el modelo con los mejores parámetros encontrados.\n",
        "        También puede ser el nombre de una métrica si se utiliza scoring múltiple.\n",
        "        **Valor por defecto**: `True`.\n",
        "\n",
        "    verbose:\n",
        "        Nivel de detalles de los mensajes. **Valor por defecto**: `0` (sin salida).\n",
        "\n",
        "    pre_dispatch:\n",
        "        Número de trabajos a despachar antes de ejecutar en paralelo.\n",
        "        **Valor por defecto**: `'2*n_jobs'`.\n",
        "\n",
        "    error_score:\n",
        "        Puntuación a asignar si ocurre un error durante el ajuste. **Valor por defecto**: `np.nan`.\n",
        "        - `'raise'` lanza una excepción si hay errores.\n",
        "\n",
        "    return_train_score:\n",
        "        Si `True`, se devolverán los puntajes del conjunto de entrenamiento en los resultados.\n",
        "        **Valor por defecto**: `False`.\n",
        "  \"\"\"\n",
        "\n",
        "  best_metric = None\n",
        "  all_metrics = {\n",
        "      'accuracy' : None,\n",
        "      'precision': None,\n",
        "      'recall': None,\n",
        "      'f1': None,\n",
        "  }\n",
        "  best_metric_score = 0\n",
        "  metrics = ('accuracy', 'precision', 'recall', 'f1')\n",
        "\n",
        "  if not random_grid: # False\n",
        "      if scoring is not None: # Viene\n",
        "          model = GridSearchCV(estimator=estimator,\n",
        "                                param_grid=param_grid,\n",
        "                                scoring=scoring,\n",
        "                                cv=cv,\n",
        "                                n_jobs=n_jobs,\n",
        "                                refit=refit,\n",
        "                                verbose=verbose,\n",
        "                                pre_dispatch=pre_dispatch,\n",
        "                                error_score=error_score,\n",
        "                                return_train_score=return_train_score)\n",
        "          classifier = model.fit(X, y)\n",
        "          all_metrics[scoring] = model.best_score_\n",
        "          best_metric = scoring\n",
        "      else:\n",
        "          for metric in metrics:\n",
        "              model = GridSearchCV(estimator=estimator,\n",
        "                                    param_grid=param_grid,\n",
        "                                    scoring=metric,\n",
        "                                    cv=cv,\n",
        "                                    n_jobs=n_jobs,\n",
        "                                    refit=refit,\n",
        "                                    verbose=verbose,\n",
        "                                    pre_dispatch=pre_dispatch,\n",
        "                                    error_score=error_score,\n",
        "                                    return_train_score=return_train_score)\n",
        "              classifier = model.fit(X, y)\n",
        "              all_metrics[metric] = model.best_score_\n",
        "              if best_metric_score < model.best_score_:\n",
        "                  best_metric_score = model.best_score_\n",
        "                  best_metric = metric\n",
        "\n",
        "  else: # True\n",
        "      if scoring is not None: # Viene\n",
        "          model = RandomizedSearchCV(estimator=estimator,\n",
        "                                      param_distributions=param_grid,\n",
        "                                      random_state=random_state,\n",
        "                                      scoring=scoring,\n",
        "                                      n_iter=n_iter,\n",
        "                                      cv=cv,\n",
        "                                      n_jobs=n_jobs,\n",
        "                                      refit=refit,\n",
        "                                      verbose=verbose,\n",
        "                                      pre_dispatch=pre_dispatch,\n",
        "                                      error_score=error_score,\n",
        "                                      return_train_score=return_train_score)\n",
        "          classifier = model.fit(X, y)\n",
        "          all_metrics[scoring] = model.best_score_\n",
        "          best_metric = scoring\n",
        "      else:\n",
        "          for metric in metrics:\n",
        "              model = RandomizedSearchCV(estimator=estimator,\n",
        "                                          param_distributions=param_grid,\n",
        "                                          scoring=metric,\n",
        "                                          n_iter=n_iter,\n",
        "                                          cv=cv,\n",
        "                                          n_jobs=n_jobs,\n",
        "                                          refit=refit,\n",
        "                                          verbose=verbose,\n",
        "                                          pre_dispatch=pre_dispatch,\n",
        "                                          error_score=error_score,\n",
        "                                          return_train_score=return_train_score)\n",
        "              classifier = model.fit(X, y)\n",
        "              all_metrics[metric] = model.best_score_\n",
        "              if best_metric_score < model.best_score_:\n",
        "                  best_metric_score = model.best_score_\n",
        "                  best_metric = metric\n",
        "\n",
        "  return classifier, best_metric, all_metrics\n"
      ]
    },
    {
      "cell_type": "code",
      "execution_count": null,
      "metadata": {
        "id": "HwCf-VYo1KWx"
      },
      "outputs": [],
      "source": [
        "# Definir algoritmos basados en árboles\n",
        "algorithms = {\n",
        "    \"DecisionTreeClassifier\": DecisionTreeClassifier,  # Árbol de decisión simple\n",
        "    \"RandomForestClassifier\": RandomForestClassifier,  # Bosque aleatorio\n",
        "    # \"GradientBoostingClassifier\": GradientBoostingClassifier,  # Gradient Boosting\n",
        "    # \"AdaBoostClassifier\": AdaBoostClassifier,  # AdaBoost\n",
        "    # \"XGBClassifier\": XGBClassifier,  # XGBoost\n",
        "}\n",
        "\n",
        "\n",
        "param_grid = {\n",
        "    'DecisionTreeClassifier': [\n",
        "        {\n",
        "            'criterion': ['gini', 'entropy'],  # Criterio para medir la calidad de la división\n",
        "            'splitter': ['best', 'random'],  # Estrategia para dividir nodos\n",
        "            'max_depth': [3, 5],  # Profundidad máxima del árbol\n",
        "            'min_samples_split': [2, 5],  # Mínimo número de muestras para dividir un nodo\n",
        "            'min_samples_leaf': [1, 3],  # Mínimo número de muestras en una hoja\n",
        "            'max_features': ['sqrt', 'log2'],  # Número máximo de características consideradas en cada división\n",
        "            'ccp_alpha': [0.0, 0.05],  # Parámetro de complejidad para la poda\n",
        "            'random_state': [random_state]  # Semilla aleatoria para reproducibilidad\n",
        "        }\n",
        "    ],\n",
        "    'RandomForestClassifier': [\n",
        "        {\n",
        "            'n_estimators': [100, 150],  # Número de árboles en el bosque\n",
        "            'criterion': ['gini', 'entropy'],  # Criterio para medir la calidad de la división\n",
        "            'max_depth': [3, 5],  # Profundidad máxima del árbol\n",
        "            'min_samples_split': [2, 5],  # Mínimo número de muestras para dividir un nodo\n",
        "            'min_samples_leaf': [1, 3],  # Mínimo número de muestras en una hoja\n",
        "            'max_features': ['sqrt', 'log2'],  # Número máximo de características consideradas en cada división\n",
        "            'bootstrap': [True, False],  # Uso de muestreo con reemplazo\n",
        "            'ccp_alpha': [0.0, 0.05],  # Parámetro de complejidad para la poda\n",
        "            'random_state': [random_state]  # Semilla aleatoria para reproducibilidad\n",
        "        }\n",
        "    ],\n",
        "    'GradientBoostingClassifier': [\n",
        "        {\n",
        "            'n_estimators': [100, 150],  # Número de árboles en el modelo\n",
        "            'learning_rate': [0.01, 0.1, 0.2],  # Tasa de aprendizaje\n",
        "            'max_depth': [3, 5],  # Profundidad máxima de los árboles\n",
        "            'min_samples_split': [2, 5],  # Mínimo número de muestras para dividir un nodo\n",
        "            'min_samples_leaf': [1, 3],  # Mínimo número de muestras en una hoja\n",
        "            'subsample': [0.8, 1.0],  # Porcentaje de muestras usadas en cada iteración\n",
        "            'max_features': ['sqrt', 'log2'],  # Número máximo de características consideradas en cada división\n",
        "            'ccp_alpha': [0.0, 0.05],  # Parámetro de complejidad para la poda\n",
        "            'random_state': [random_state]  # Semilla aleatoria para reproducibilidad\n",
        "        }\n",
        "    ],\n",
        "    'AdaBoostClassifier': [\n",
        "        {\n",
        "            'n_estimators': [50, 100, 150],  # Número de clasificadores base\n",
        "            'learning_rate': [0.01, 0.1, 1.0],  # Tasa de aprendizaje\n",
        "            'algorithm': ['SAMME', 'SAMME.R'],  # Algoritmo de actualización de pesos\n",
        "            'random_state': [random_state]  # Semilla aleatoria para reproducibilidad\n",
        "        }\n",
        "    ]\n",
        "}\n",
        "\n",
        "n_iter = 2\n",
        "extern_kfold = 2\n",
        "intern_kfold = 2"
      ]
    },
    {
      "cell_type": "markdown",
      "metadata": {
        "id": "Kg6np7HrRgOG"
      },
      "source": [
        "# Ejemplo"
      ]
    },
    {
      "cell_type": "code",
      "execution_count": null,
      "metadata": {
        "id": "QcpKx9lfP9RQ"
      },
      "outputs": [],
      "source": [
        "def clasificacion_binaria(random_state, model, grid, validacion_grid, grid_n_iter, random_grid, X_train, X_val, y_train_class3, y_val_class3):\n",
        "\n",
        "        y_train_class3 = y_train_class3.values.ravel()\n",
        "        y_val_class3 = y_val_class3.values.ravel()\n",
        "\n",
        "        # Identificar columnas categóricas, numéricas y booleanas\n",
        "        categorical_cols = X_train.select_dtypes(include=['object']).columns\n",
        "        boolean_cols = X_train.select_dtypes(include=['bool']).columns\n",
        "        if boolean_cols.any():  # Si hay columnas booleanas\n",
        "            X_train[boolean_cols] = X_train[boolean_cols].astype(int)\n",
        "        numerical_cols = X_train.select_dtypes(include=['float64', 'int64']).columns\n",
        "\n",
        "        if grid:\n",
        "            X_train_sampled = X_train.sample(n=10000, random_state=random_state)\n",
        "            y_train_class3_sampled  = y_train_class3.loc[X_train_sampled.index]\n",
        "\n",
        "            X_train = X_train.drop(index=X_train_sampled.index)\n",
        "            y_train_class3 = y_train_class3.drop(index=X_train_sampled.index)\n",
        "\n",
        "            grid_search = optimize(\n",
        "                random_grid=random_grid,\n",
        "                random_state=random_state,\n",
        "                estimator=model,\n",
        "                X=X_train_sampled,\n",
        "                y=y_train_class3_sampled,\n",
        "                param_grid=param_grid[model.__class__.__name__],\n",
        "                n_iter=grid_n_iter,\n",
        "                cv=validacion_grid,\n",
        "                scoring='accuracy',\n",
        "                n_jobs=-1,\n",
        "            )\n",
        "            model = grid_search[0].best_estimator_\n",
        "            print(f\"Optimización completa para {model.__class__.__name__}.\")\n",
        "\n",
        "        print(\"Creando el pipeline...\")\n",
        "        pipeline = create_pipeline(\n",
        "            model=model,  # Modelo del algoritmo final (ensemble)\n",
        "            categorical_features=categorical_cols,  # Columnas categóricas\n",
        "            numerical_features=numerical_cols,  # Columnas numéricas\n",
        "        )\n",
        "        print(\"Pipeline creado exitosamente.\")\n",
        "\n",
        "        # # Validación cruzada de 5 pliegues\n",
        "        # print(\"Realizando validación cruzada de 5 pliegues...\")\n",
        "        # cv_scores = cross_val_score(pipeline, X_train, y_train_class3, cv=5, scoring='accuracy')\n",
        "        # print(\"CV scores:\", cv_scores)\n",
        "        # print(\"Accuracy media (CV): {:.4f}\".format(cv_scores.mean()))\n",
        "\n",
        "        # Entrenar el pipeline completo (incluyendo preprocesamiento y RFE)\n",
        "        print(\"Entrenando el pipeline...\")\n",
        "        pipeline.fit(X_train, y_train_class3)\n",
        "        print(\"Entrenamiento completo.\")\n",
        "\n",
        "\n",
        "        # Realizar predicciones\n",
        "        print(\"Realizando predicciones en el conjunto de validación...\")\n",
        "        y_pred_class3 = pipeline.predict(X_val)\n",
        "        print(\"Predicciones realizadas.\")\n",
        "\n",
        "\n",
        "        # Evaluar el rendimiento\n",
        "        accuracy = accuracy_score(y_val_class3, y_pred_class3)\n",
        "        print(f'Accuracy (validacion): {accuracy:.4f}')\n",
        "\n",
        "        precision = precision_score(y_val_class3, y_pred_class3)\n",
        "        print(f'Precision (validacion): {precision:.4f}')\n",
        "\n",
        "        recall = recall_score(y_val_class3, y_pred_class3)\n",
        "        print(f'Recall (validacion): {recall:.4f}')\n",
        "\n",
        "        f1 = f1_score(y_val_class3, y_pred_class3)\n",
        "        print(f'F1 (validacion): {f1:.4f}')\n",
        "\n",
        "        return pipeline, accuracy, precision, recall, f1"
      ]
    },
    {
      "cell_type": "code",
      "execution_count": null,
      "metadata": {
        "colab": {
          "base_uri": "https://localhost:8080/"
        },
        "id": "WZIgqLatQCqm",
        "outputId": "e34e1683-e776-4e24-e7f6-688c890f5f34"
      },
      "outputs": [
        {
          "name": "stdout",
          "output_type": "stream",
          "text": [
            "Creando el pipeline...\n",
            "Pipeline creado exitosamente.\n",
            "Entrenando el pipeline...\n",
            "Entrenamiento completo.\n",
            "Realizando predicciones en el conjunto de validación...\n",
            "Predicciones realizadas.\n",
            "Accuracy (validacion): 0.9927\n",
            "Precision (validacion): 0.9921\n",
            "Recall (validacion): 0.9929\n",
            "F1 (validacion): 0.9925\n"
          ]
        }
      ],
      "source": [
        "grid = False\n",
        "random_grid = False\n",
        "grid_n_iter = 2\n",
        "random_state = 42\n",
        "validacion_grid = StratifiedKFold(n_splits=intern_kfold, shuffle=True, random_state=random_state)\n",
        "\n",
        "model = algorithms[\"DecisionTreeClassifier\"]()\n",
        "# Entrenar el modelo\n",
        "modelo, accuracy, precision, recall, f1 = clasificacion_binaria(random_state, model, grid, validacion_grid, grid_n_iter, random_grid, X_train_processed, X_val_processed, y_train_class3, y_val_class3)"
      ]
    },
    {
      "cell_type": "code",
      "execution_count": null,
      "metadata": {
        "colab": {
          "background_save": true
        },
        "id": "1LYzx5VrSD-K"
      },
      "outputs": [],
      "source": [
        "from sklearn.cluster import DBSCAN\n",
        "dbscan = DBSCAN(eps=0.5, min_samples=5)\n",
        "clusters = dbscan.fit_predict(X_train_processed)"
      ]
    },
    {
      "cell_type": "code",
      "execution_count": null,
      "metadata": {
        "colab": {
          "background_save": true
        },
        "id": "2XjGU8yTSai9",
        "outputId": "8a8b41d7-190d-4d00-8e1e-20246b16e54b"
      },
      "outputs": [
        {
          "name": "stdout",
          "output_type": "stream",
          "text": [
            "Clusters únicos: [  -1    0    1 ... 8224 8225 8226]\n"
          ]
        }
      ],
      "source": [
        "import numpy as np\n",
        "print(\"Clusters únicos:\", np.unique(clusters))"
      ]
    }
  ],
  "metadata": {
    "accelerator": "TPU",
    "colab": {
      "collapsed_sections": [
        "If2patbIMrJC",
        "vxvVpBewnVrT",
        "GqDfuebFje9E",
        "y35_A15FDj7b",
        "I-r8hD2BJnIs",
        "7-56jneH6e4R"
      ],
      "gpuType": "V28",
      "provenance": []
    },
    "kernelspec": {
      "display_name": "Python 3",
      "name": "python3"
    },
    "language_info": {
      "name": "python"
    }
  },
  "nbformat": 4,
  "nbformat_minor": 0
}