{
 "cells": [
  {
   "cell_type": "code",
   "execution_count": 1,
   "metadata": {
    "_cell_guid": "b1076dfc-b9ad-4769-8c92-a6c4dae69d19",
    "_uuid": "8f2839f25d086af736a60e9eeb907d3b93b6e0e5",
    "execution": {
     "iopub.execute_input": "2025-02-13T19:18:10.625190Z",
     "iopub.status.busy": "2025-02-13T19:18:10.624837Z",
     "iopub.status.idle": "2025-02-13T19:18:11.564549Z",
     "shell.execute_reply": "2025-02-13T19:18:11.563656Z",
     "shell.execute_reply.started": "2025-02-13T19:18:10.625160Z"
    },
    "trusted": true
   },
   "outputs": [
    {
     "name": "stdout",
     "output_type": "stream",
     "text": [
      "/kaggle/input/X-IIoTID dataset.csv\n"
     ]
    }
   ],
   "source": [
    "# This Python 3 environment comes with many helpful analytics libraries installed\n",
    "# It is defined by the kaggle/python Docker image: https://github.com/kaggle/docker-python\n",
    "# For example, here's several helpful packages to load\n",
    "\n",
    "import numpy as np # linear algebra\n",
    "import pandas as pd # data processing, CSV file I/O (e.g. pd.read_csv)\n",
    "\n",
    "# Input data files are available in the read-only \"../input/\" directory\n",
    "# For example, running this (by clicking run or pressing Shift+Enter) will list all files under the input directory\n",
    "\n",
    "import os\n",
    "for dirname, _, filenames in os.walk('/kaggle/input'):\n",
    "    for filename in filenames:\n",
    "        print(os.path.join(dirname, filename))\n",
    "\n",
    "# You can write up to 20GB to the current directory (/kaggle/working/) that gets preserved as output when you create a version using \"Save & Run All\" \n",
    "# You can also write temporary files to /kaggle/temp/, but they won't be saved outside of the current session"
   ]
  },
  {
   "cell_type": "code",
   "execution_count": 2,
   "metadata": {
    "execution": {
     "iopub.execute_input": "2025-02-13T19:18:11.565907Z",
     "iopub.status.busy": "2025-02-13T19:18:11.565476Z",
     "iopub.status.idle": "2025-02-13T19:18:29.205968Z",
     "shell.execute_reply": "2025-02-13T19:18:29.205309Z",
     "shell.execute_reply.started": "2025-02-13T19:18:11.565878Z"
    },
    "trusted": true
   },
   "outputs": [],
   "source": [
    "import pandas as pd \n",
    "df = pd.read_csv(\"/kaggle/input/X-IIoTID dataset.csv\", low_memory=False)\n",
    "\n",
    "random_state = 42"
   ]
  },
  {
   "cell_type": "code",
   "execution_count": 3,
   "metadata": {
    "execution": {
     "iopub.execute_input": "2025-02-13T19:18:29.207008Z",
     "iopub.status.busy": "2025-02-13T19:18:29.206709Z",
     "iopub.status.idle": "2025-02-13T19:18:31.002238Z",
     "shell.execute_reply": "2025-02-13T19:18:31.001374Z",
     "shell.execute_reply.started": "2025-02-13T19:18:29.206980Z"
    },
    "trusted": true
   },
   "outputs": [
    {
     "name": "stdout",
     "output_type": "stream",
     "text": [
      "<class 'pandas.core.frame.DataFrame'>\n",
      "RangeIndex: 820834 entries, 0 to 820833\n",
      "Data columns (total 68 columns):\n",
      " #   Column                       Non-Null Count   Dtype \n",
      "---  ------                       --------------   ----- \n",
      " 0   Date                         820503 non-null  object\n",
      " 1   Timestamp                    820537 non-null  object\n",
      " 2   Scr_IP                       820834 non-null  object\n",
      " 3   Scr_port                     820834 non-null  object\n",
      " 4   Des_IP                       820834 non-null  object\n",
      " 5   Des_port                     820834 non-null  object\n",
      " 6   Protocol                     820834 non-null  object\n",
      " 7   Service                      820834 non-null  object\n",
      " 8   Duration                     820834 non-null  object\n",
      " 9   Scr_bytes                    820834 non-null  object\n",
      " 10  Des_bytes                    820834 non-null  object\n",
      " 11  Conn_state                   820834 non-null  int64 \n",
      " 12  missed_bytes                 820834 non-null  object\n",
      " 13  is_syn_only                  820834 non-null  bool  \n",
      " 14  Is_SYN_ACK                   820834 non-null  bool  \n",
      " 15  is_pure_ack                  820834 non-null  bool  \n",
      " 16  is_with_payload              820834 non-null  bool  \n",
      " 17  FIN or RST                   820834 non-null  bool  \n",
      " 18  Bad_checksum                 820834 non-null  bool  \n",
      " 19  is_SYN_with_RST              820834 non-null  bool  \n",
      " 20  Scr_pkts                     820834 non-null  object\n",
      " 21  Scr_ip_bytes                 820834 non-null  object\n",
      " 22  Des_pkts                     820834 non-null  object\n",
      " 23  Des_ip_bytes                 820834 non-null  object\n",
      " 24  anomaly_alert                820834 non-null  object\n",
      " 25  total_bytes                  820834 non-null  object\n",
      " 26  total_packet                 820834 non-null  object\n",
      " 27  paket_rate                   820834 non-null  object\n",
      " 28  byte_rate                    820834 non-null  object\n",
      " 29  Scr_packts_ratio             820834 non-null  object\n",
      " 30  Des_pkts_ratio               820834 non-null  object\n",
      " 31  Scr_bytes_ratio              820834 non-null  object\n",
      " 32  Des_bytes_ratio              820834 non-null  object\n",
      " 33  Avg_user_time                820834 non-null  object\n",
      " 34  Std_user_time                820834 non-null  object\n",
      " 35  Avg_nice_time                820834 non-null  object\n",
      " 36  Std_nice_time                820834 non-null  object\n",
      " 37  Avg_system_time              820834 non-null  object\n",
      " 38  Std_system_time              820834 non-null  object\n",
      " 39  Avg_iowait_time              820834 non-null  object\n",
      " 40  Std_iowait_time              820834 non-null  object\n",
      " 41  Avg_ideal_time               820834 non-null  object\n",
      " 42  Std_ideal_time               820834 non-null  object\n",
      " 43  Avg_tps                      820834 non-null  object\n",
      " 44  Std_tps                      820834 non-null  object\n",
      " 45  Avg_rtps                     820834 non-null  object\n",
      " 46  Std_rtps                     820834 non-null  object\n",
      " 47  Avg_wtps                     820834 non-null  object\n",
      " 48  Std_wtps                     820834 non-null  object\n",
      " 49  Avg_ldavg_1                  820834 non-null  object\n",
      " 50  Std_ldavg_1                  820834 non-null  object\n",
      " 51  Avg_kbmemused                820834 non-null  object\n",
      " 52  Std_kbmemused                820834 non-null  object\n",
      " 53  Avg_num_Proc/s               820834 non-null  object\n",
      " 54  Std_num_proc/s               820834 non-null  object\n",
      " 55  Avg_num_cswch/s              820834 non-null  object\n",
      " 56  std_num_cswch/s              820834 non-null  object\n",
      " 57  OSSEC_alert                  820834 non-null  int64 \n",
      " 58  OSSEC_alert_level            820834 non-null  int64 \n",
      " 59  Login_attempt                820834 non-null  int64 \n",
      " 60  Succesful_login              820834 non-null  int64 \n",
      " 61  File_activity                820834 non-null  int64 \n",
      " 62  Process_activity             820834 non-null  int64 \n",
      " 63  read_write_physical.process  820834 non-null  int64 \n",
      " 64  is_privileged                820834 non-null  int64 \n",
      " 65  class1                       820834 non-null  object\n",
      " 66  class2                       820834 non-null  object\n",
      " 67  class3                       820834 non-null  object\n",
      "dtypes: bool(7), int64(9), object(52)\n",
      "memory usage: 387.5+ MB\n"
     ]
    }
   ],
   "source": [
    "df.info()"
   ]
  },
  {
   "cell_type": "code",
   "execution_count": 4,
   "metadata": {
    "execution": {
     "iopub.execute_input": "2025-02-13T19:18:31.004210Z",
     "iopub.status.busy": "2025-02-13T19:18:31.003971Z",
     "iopub.status.idle": "2025-02-13T19:18:35.019994Z",
     "shell.execute_reply": "2025-02-13T19:18:35.019042Z",
     "shell.execute_reply.started": "2025-02-13T19:18:31.004190Z"
    },
    "trusted": true
   },
   "outputs": [],
   "source": [
    "from sklearn.model_selection import train_test_split\n",
    "\n",
    "\"\"\"Divide los datos en entrenamiento, validación y prueba.\"\"\"\n",
    "X = df.drop(columns=['class1', 'class2', 'class3'])\n",
    "y_class3 = df['class3'].map({'Normal': 0, 'Attack': 1})\n",
    "y_class2 = df['class2']\n",
    "y_class1 = df['class1']\n",
    "\n",
    "X_train, X_temp, y_train_class3, y_temp_class3, y_train_class2, y_temp_class2, y_train_class1, y_temp_class1 = train_test_split(\n",
    "    X, y_class3, y_class2, y_class1, test_size=0.3, random_state=random_state, stratify=y_class3, shuffle=True\n",
    ")\n",
    "\n",
    "X_val, X_test, y_val_class3, y_test_class3, y_val_class2, y_test_class2, y_val_class1, y_test_class1 = train_test_split(\n",
    "    X_temp, y_temp_class3, y_temp_class2, y_temp_class1, test_size=0.5, random_state=random_state, stratify=y_temp_class3, shuffle=True\n",
    ")\n",
    "\n",
    "# Resetear índices para evitar desalineaciones\n",
    "X_train = X_train.reset_index(drop=True)\n",
    "X_val = X_val.reset_index(drop=True)\n",
    "X_test = X_test.reset_index(drop=True)  # Opcional\n",
    "\n",
    "y_train_class3 = y_train_class3.reset_index(drop=True)\n",
    "y_val_class3 = y_val_class3.reset_index(drop=True)\n",
    "y_test_class3 = y_test_class3.reset_index(drop=True)  # Opcional\n",
    "\n",
    "y_train_class2 = y_train_class2.reset_index(drop=True)\n",
    "y_val_class2 = y_val_class2.reset_index(drop=True)\n",
    "y_test_class2 = y_test_class2.reset_index(drop=True)  # Opcional\n",
    "\n",
    "y_train_class1 = y_train_class1.reset_index(drop=True)\n",
    "y_val_class1 = y_val_class1.reset_index(drop=True)\n",
    "y_test_class1 = y_test_class1.reset_index(drop=True)  # Opcional"
   ]
  },
  {
   "cell_type": "code",
   "execution_count": 5,
   "metadata": {
    "execution": {
     "iopub.execute_input": "2025-02-13T19:18:35.021852Z",
     "iopub.status.busy": "2025-02-13T19:18:35.021428Z",
     "iopub.status.idle": "2025-02-13T19:18:35.028116Z",
     "shell.execute_reply": "2025-02-13T19:18:35.027242Z",
     "shell.execute_reply.started": "2025-02-13T19:18:35.021822Z"
    },
    "trusted": true
   },
   "outputs": [],
   "source": [
    "import pandas as pd\n",
    "def fix_dtype(df, umbral_numerico=0.7):\n",
    "    object_cols = df.select_dtypes(include=['object']).columns\n",
    "    int_cols = df.select_dtypes(include=['int64']).columns\n",
    "    bool_cols = df.select_dtypes(include=['bool']).columns\n",
    "\n",
    "    # Convertir booleanos a float\n",
    "    df[bool_cols] = df[bool_cols].astype(float)\n",
    "\n",
    "    for col in object_cols:\n",
    "        valores_unicos = df[col].dropna().unique()\n",
    "\n",
    "        if {\"true\", \"false\"} <= set(valores_unicos):  # Verifica si ambos existen\n",
    "            df[col] = df[col].map({'true': 1, 'false': 0}).astype(float)\n",
    "        else:\n",
    "            converted = pd.to_numeric(df[col], errors='coerce')\n",
    "            if converted.notna().mean() > umbral_numerico:\n",
    "                df[col] = converted.astype(float)\n",
    "\n",
    "    for col in int_cols:\n",
    "        df[col] = df[col].astype(float)\n",
    "\n",
    "    return df\n",
    "\n",
    "def delete_ip_port(df):\n",
    "    \"\"\"Elimina las columnas 'ip' y 'port'.\"\"\"\n",
    "    lista = ['Scr_IP', 'Scr_port', 'Des_IP', 'Des_port', 'Scr_bytes', 'Des_bytes', 'Scr_pkts', \n",
    "                            'Des_pkts', 'Scr_ip_bytes', 'Des_ip_bytes', 'Scr_packts_ratio', 'Des_pkts_ratio',\n",
    "                            'Scr_bytes_ratio', 'Des_bytes_ratio']\n",
    "\n",
    "    return df.drop(columns=lista)"
   ]
  },
  {
   "cell_type": "code",
   "execution_count": 6,
   "metadata": {
    "execution": {
     "iopub.execute_input": "2025-02-13T19:18:35.029266Z",
     "iopub.status.busy": "2025-02-13T19:18:35.029029Z",
     "iopub.status.idle": "2025-02-13T19:18:35.059171Z",
     "shell.execute_reply": "2025-02-13T19:18:35.058477Z",
     "shell.execute_reply.started": "2025-02-13T19:18:35.029245Z"
    },
    "trusted": true
   },
   "outputs": [],
   "source": [
    "import numpy as np\n",
    "# Reemplazos comunes de valores\n",
    "common_replacements = {\n",
    "    '-': np.nan,\n",
    "    '?': np.nan,\n",
    "    'nan': np.nan,\n",
    "}\n",
    "\n",
    "def replace_common_values(df):\n",
    "    \"\"\"Reemplaza valores comunes como '-', '?' y 'nan' por NaN.\"\"\"\n",
    "    for col in df.select_dtypes(include=['object']).columns:\n",
    "        df[col] = df[col].replace(common_replacements)\n",
    "    return df\n",
    "\n",
    "def fix_mayus(df):\n",
    "    for col in df.select_dtypes(include=['object']).columns:\n",
    "        df[col] = df[col].str.lower()\n",
    "    return df\n"
   ]
  },
  {
   "cell_type": "code",
   "execution_count": 7,
   "metadata": {
    "execution": {
     "iopub.execute_input": "2025-02-13T19:18:35.060011Z",
     "iopub.status.busy": "2025-02-13T19:18:35.059795Z",
     "iopub.status.idle": "2025-02-13T19:18:35.252267Z",
     "shell.execute_reply": "2025-02-13T19:18:35.251456Z",
     "shell.execute_reply.started": "2025-02-13T19:18:35.059988Z"
    },
    "trusted": true
   },
   "outputs": [],
   "source": [
    "from sklearn.impute import KNNImputer, SimpleImputer\n",
    "\n",
    "# Definir los imputadores\n",
    "imputers = {\n",
    "    'categorical': {\n",
    "        'most_frequent': SimpleImputer(strategy='most_frequent'),\n",
    "        'knn': KNNImputer(n_neighbors=5)\n",
    "    },\n",
    "    'numeric': {\n",
    "        'mean': SimpleImputer(strategy='mean'),\n",
    "        'median': SimpleImputer(strategy='median')\n",
    "    }\n",
    "}\n",
    "\n",
    "from sklearn.discriminant_analysis import StandardScaler\n",
    "from sklearn.preprocessing import RobustScaler\n",
    "\n",
    "# Definir escaladores\n",
    "scalers = {\n",
    "    \"robust\": RobustScaler(),\n",
    "    \"standard\": StandardScaler()\n",
    "}\n",
    "\n",
    "from sklearn.preprocessing import OneHotEncoder, OrdinalEncoder\n",
    "\n",
    "# Definir codificadores\n",
    "encoders = {\n",
    "    \"one_hot\": OneHotEncoder(sparse_output=False, handle_unknown=\"ignore\"),\n",
    "    \"ordinal\": OrdinalEncoder(handle_unknown=\"use_encoded_value\", unknown_value=-1)\n",
    "}"
   ]
  },
  {
   "cell_type": "code",
   "execution_count": 8,
   "metadata": {
    "execution": {
     "iopub.execute_input": "2025-02-13T19:18:35.253419Z",
     "iopub.status.busy": "2025-02-13T19:18:35.253134Z",
     "iopub.status.idle": "2025-02-13T19:18:35.256904Z",
     "shell.execute_reply": "2025-02-13T19:18:35.256077Z",
     "shell.execute_reply.started": "2025-02-13T19:18:35.253398Z"
    },
    "trusted": true
   },
   "outputs": [],
   "source": [
    "imputador_cat= imputers['categorical']['most_frequent']\n",
    "imputador_num = imputers['numeric']['mean']\n",
    "normalizacion = scalers['robust']\n",
    "decodificador = encoders['one_hot']"
   ]
  },
  {
   "cell_type": "code",
   "execution_count": 9,
   "metadata": {
    "execution": {
     "iopub.execute_input": "2025-02-13T19:18:35.258187Z",
     "iopub.status.busy": "2025-02-13T19:18:35.257864Z",
     "iopub.status.idle": "2025-02-13T19:18:35.272795Z",
     "shell.execute_reply": "2025-02-13T19:18:35.272165Z",
     "shell.execute_reply.started": "2025-02-13T19:18:35.258157Z"
    },
    "trusted": true
   },
   "outputs": [],
   "source": [
    "import numpy as np\n",
    "from sklearn.decomposition import PCA\n",
    "from collections import Counter\n",
    "\n",
    "def matriz_correlacion(df):\n",
    "    numeric_cols = df.select_dtypes(include=['float64', 'int64']).columns\n",
    "    correlation_matrix = df[numeric_cols].corr()\n",
    "    return correlation_matrix\n",
    "\n",
    "def correlacion_pares(df, umbral):\n",
    "    df = matriz_correlacion(df)\n",
    "    # Toma solo la parte superior de la matriz para evitar duplicados\n",
    "    upper_tri = df.where(np.triu(np.ones(df.shape), k=1).astype(bool))\n",
    "\n",
    "    # Identifica pares altamente correlacionados\n",
    "    correlated_pairs = []\n",
    "    for col in upper_tri.columns:\n",
    "        for row in upper_tri.index:\n",
    "            if upper_tri.loc[row, col] > umbral:\n",
    "                correlated_pairs.append((row, col))\n",
    "\n",
    "    # Selecciona las columnas a eliminar (de cada par, se elimina la que aparece como columna)\n",
    "    alta_corr_pares = [col for col in upper_tri.columns if any(upper_tri[col] > umbral)]\n",
    "    \n",
    "    return alta_corr_pares\n",
    "\n",
    "def correlacion_respecto_objetivo(df, target, umbral):\n",
    "    numeric_cols = df.select_dtypes(include=['float64', 'int64']).columns\n",
    "    # Calculamos la correlación con la variable objetivo\n",
    "    target_correlation = df[numeric_cols].corrwith(target).abs().sort_values(ascending=True)\n",
    "\n",
    "    # Nos quedamos solo con las características que tengan correlación >= 0.1\n",
    "    baja_corr_respecto_obj = target_correlation[target_correlation < umbral].index.tolist()\n",
    "\n",
    "    return baja_corr_respecto_obj\n",
    "\n",
    "def seleccionar_variables_pca(X_train, X_val, n_components, num_top_features):\n",
    "    \"\"\"\n",
    "    Aplica PCA para seleccionar las características más influyentes, pero mantiene los datos originales.\n",
    "    \n",
    "    Parámetros:\n",
    "        - X_train: DataFrame de entrenamiento\n",
    "        - X_val: DataFrame de validación\n",
    "        - n_components: float/int, cantidad de componentes principales o porcentaje de varianza a retener\n",
    "        - num_top_features: int, número de características más influyentes a seleccionar\n",
    "\n",
    "    Retorna:\n",
    "        - X_train_filtrado: DataFrame de entrenamiento con las características seleccionadas\n",
    "        - X_val_filtrado: DataFrame de validación con las características seleccionadas\n",
    "    \"\"\"\n",
    "\n",
    "    # Si usas el sample, cambialo en las lineas necesarias\n",
    "    # X_train_sample = X_train.sample(n=300000, random_state=42) # Seleccionar una muestra de 300,000 instancias como en el articulo\n",
    "    \n",
    "    # Aplicar PCA (sin guardar la transformación)\n",
    "    pca = PCA(n_components=n_components, random_state=42)\n",
    "    pca.fit(X_train)  # Solo ajustamos el modelo, no transformamos los datos\n",
    "\n",
    "    # Obtener nombres originales de las variables\n",
    "    original_feature_names = np.array(X_train.columns)\n",
    "\n",
    "    # Contador de importancia de características en PCA\n",
    "    feature_counter = Counter()\n",
    "    \n",
    "    for comp in pca.components_:\n",
    "        top_indices = np.argsort(np.abs(comp))[-num_top_features:]  # Índices de las más importantes\n",
    "        top_features = original_feature_names[top_indices]  # Obtener nombres\n",
    "        feature_counter.update(top_features)  # Contar ocurrencias\n",
    "\n",
    "    # Seleccionar las variables más influyentes ordenadas por frecuencia de aparición\n",
    "    variables_pca = [feature for feature, _ in feature_counter.most_common()]\n",
    "\n",
    "    # Filtrar las variables seleccionadas en los conjuntos de datos\n",
    "    X_train_filtrado = X_train[variables_pca]\n",
    "    X_val_filtrado = X_val[variables_pca]\n",
    "    \n",
    "    return X_train_filtrado, X_val_filtrado"
   ]
  },
  {
   "cell_type": "code",
   "execution_count": 10,
   "metadata": {
    "execution": {
     "iopub.execute_input": "2025-02-13T19:18:35.273755Z",
     "iopub.status.busy": "2025-02-13T19:18:35.273560Z",
     "iopub.status.idle": "2025-02-13T19:18:35.290840Z",
     "shell.execute_reply": "2025-02-13T19:18:35.290229Z",
     "shell.execute_reply.started": "2025-02-13T19:18:35.273738Z"
    },
    "trusted": true
   },
   "outputs": [],
   "source": [
    "def calculo_varianza(df):\n",
    "    \"\"\"Calcula las varianzas de las columnas de un DataFrame y devuelve las que tienen varianza igual a cero.\"\"\"\n",
    "    varianzas = df.var()\n",
    "\n",
    "    # Identificar columnas con varianza igual a cero\n",
    "    variables_con_varianza_cero = [col for col, varianza in varianzas.items() if varianza == 0]\n",
    "    \n",
    "    return variables_con_varianza_cero\n"
   ]
  },
  {
   "cell_type": "code",
   "execution_count": 11,
   "metadata": {
    "execution": {
     "iopub.execute_input": "2025-02-13T19:18:35.291976Z",
     "iopub.status.busy": "2025-02-13T19:18:35.291707Z",
     "iopub.status.idle": "2025-02-13T19:19:06.697883Z",
     "shell.execute_reply": "2025-02-13T19:19:06.697191Z",
     "shell.execute_reply.started": "2025-02-13T19:18:35.291931Z"
    },
    "trusted": true
   },
   "outputs": [],
   "source": [
    "X_train = replace_common_values(X_train)\n",
    "X_train = fix_mayus(X_train)\n",
    "X_train = fix_dtype(X_train)\n",
    "X_train = delete_ip_port(X_train)\n",
    "\n",
    "y_train_class3 = y_train_class3.loc[X_train.index]\n",
    "y_train_class2 = y_train_class2.loc[X_train.index]\n",
    "y_train_class1 = y_train_class1.loc[X_train.index]\n",
    "\n",
    "X_val = replace_common_values(X_val)\n",
    "X_val = fix_mayus(X_val)\n",
    "X_val = fix_dtype(X_val)\n",
    "X_val = delete_ip_port(X_val)\n",
    "\n",
    "y_val_class3 = y_val_class3.loc[X_val.index]\n",
    "y_val_class2 = y_val_class2.loc[X_val.index]\n",
    "y_val_class1 = y_val_class1.loc[X_val.index]"
   ]
  },
  {
   "cell_type": "code",
   "execution_count": null,
   "metadata": {
    "execution": {
     "iopub.execute_input": "2025-02-13T19:19:06.698911Z",
     "iopub.status.busy": "2025-02-13T19:19:06.698666Z",
     "iopub.status.idle": "2025-02-13T19:19:11.338549Z",
     "shell.execute_reply": "2025-02-13T19:19:11.337656Z",
     "shell.execute_reply.started": "2025-02-13T19:19:06.698890Z"
    },
    "trusted": true
   },
   "outputs": [
    {
     "name": "stdout",
     "output_type": "stream",
     "text": [
      "✅ Instancias completas: 416933, incompletas: 157650\n"
     ]
    },
    {
     "name": "stderr",
     "output_type": "stream",
     "text": [
      "/usr/local/lib/python3.10/dist-packages/pandas/core/computation/expressions.py:73: RuntimeWarning: invalid value encountered in greater\n",
      "  return op(a, b)\n"
     ]
    }
   ],
   "source": [
    "X_train['Instancia_completa'] = X_train.notnull().all(axis=1).astype(int)\n",
    "X_val['Instancia_completa'] = X_val.notnull().all(axis=1).astype(int)\n",
    "\n",
    "completas = X_train['Instancia_completa'].sum()\n",
    "incompletas = len(X_train) - completas\n",
    "print(f\"✅ Instancias completas: {completas}, incompletas: {incompletas}\")\n",
    "sample_weight_train = X_train['Instancia_completa'].replace({1: 3, 0: 1})\n",
    "\n",
    "columnas_no_comprobar = [col for col in X_train.columns if col not in ['Timestamp', 'Date', 'Instancia_completa'] and X_train[col].dtypes != 'object']\n",
    "variables_con_varianza_cero = calculo_varianza(X_train[columnas_no_comprobar])\n",
    "X_train = X_train.drop(columns=variables_con_varianza_cero)\n",
    "X_val = X_val.drop(columns=variables_con_varianza_cero)\n",
    "    \n",
    "X_train = X_train.drop(columns=['Timestamp', 'Date', 'Instancia_completa'], errors='ignore')\n",
    "X_val = X_val.drop(columns=['Timestamp', 'Date', 'Instancia_completa'], errors='ignore')\n",
    "\n",
    "alta_corr_pares = correlacion_pares(X_train, 0.97)\n",
    "X_train = X_train.drop(columns=alta_corr_pares)\n",
    "X_val = X_val.drop(columns=alta_corr_pares)\n",
    "\n",
    "baja_corr_respecto_obj = correlacion_respecto_objetivo(X_train, y_train_class3, 0.025)\n",
    "X_train = X_train.drop(columns=baja_corr_respecto_obj)\n",
    "X_val = X_val.drop(columns=baja_corr_respecto_obj)\n",
    "\n",
    "X_train['Protocol'] = X_train['Protocol'].fillna(\"missing\")\n",
    "X_val['Protocol'] = X_val['Protocol'].fillna(\"missing\")"
   ]
  },
  {
   "cell_type": "code",
   "execution_count": 13,
   "metadata": {
    "execution": {
     "iopub.execute_input": "2025-02-13T19:19:11.341565Z",
     "iopub.status.busy": "2025-02-13T19:19:11.341318Z",
     "iopub.status.idle": "2025-02-13T19:19:13.930629Z",
     "shell.execute_reply": "2025-02-13T19:19:13.929892Z",
     "shell.execute_reply.started": "2025-02-13T19:19:11.341544Z"
    },
    "trusted": true
   },
   "outputs": [],
   "source": [
    " # Identificar columnas categóricas, numéricas y booleanas\n",
    "categorical_cols = X_train.select_dtypes(include=['object']).columns\n",
    "boolean_cols = X_train.select_dtypes(include=['bool']).columns\n",
    "if boolean_cols.any():  # Si hay columnas booleanas\n",
    "    X_train[boolean_cols] = X_train[boolean_cols].astype(float)  # TAL VEZ INNCESESARIO\n",
    "numerical_cols = X_train.select_dtypes(include=['float64', 'int64']).columns\n",
    "\n",
    "##############################################################################\n",
    "    \n",
    "X_train[categorical_cols] = imputador_cat.fit_transform(X_train[categorical_cols])\n",
    "X_val[categorical_cols] = imputador_cat.transform(X_val[categorical_cols])\n",
    "\n",
    "X_train[numerical_cols] = imputador_num.fit_transform(X_train[numerical_cols])\n",
    "X_val[numerical_cols] = imputador_num.transform(X_val[numerical_cols])\n",
    "\n",
    "##############################################################################\n",
    "\n",
    "X_train_scaled = normalizacion.fit_transform(X_train[numerical_cols])\n",
    "X_val_scaled = normalizacion.transform(X_val[numerical_cols])\n",
    "\n",
    "# Convertir las matrices escaladas a DataFrames\n",
    "X_train_scaled_df = pd.DataFrame(X_train_scaled, columns=[f\"{col}_scaled\" for col in numerical_cols], index=X_train.index)\n",
    "X_val_scaled_df = pd.DataFrame(X_val_scaled, columns=[f\"{col}_scaled\" for col in numerical_cols], index=X_val.index)\n",
    "\n",
    "##############################################################################\n",
    "\n",
    "X_train_encoded = decodificador.fit_transform(X_train[categorical_cols])\n",
    "X_val_encoded = decodificador.transform(X_val[categorical_cols])\n",
    "\n",
    "# Obtener los nombres de las nuevas columnas codificadas\n",
    "encoded_cols = decodificador.get_feature_names_out(categorical_cols)\n",
    "\n",
    "# Convertir las matrices codificadas a DataFrames\n",
    "X_train_encoded_df = pd.DataFrame(X_train_encoded, columns=encoded_cols, index=X_train.index)\n",
    "X_val_encoded_df = pd.DataFrame(X_val_encoded, columns=encoded_cols, index=X_val.index)\n",
    "\n",
    "##############################################################################\n",
    "\n",
    "# Combinar con las características categóricas codificadas\n",
    "X_train_processed = pd.concat([X_train_scaled_df, X_train_encoded_df], axis=1)\n",
    "X_val_processed = pd.concat([X_val_scaled_df, X_val_encoded_df], axis=1)\n",
    "\n",
    "# Opcional: Reordenar las columnas si es necesario\n",
    "X_train = X_train_processed.reindex(sorted(X_train_processed.columns), axis=1)\n",
    "X_val = X_val_processed.reindex(sorted(X_val_processed.columns), axis=1)"
   ]
  },
  {
   "cell_type": "code",
   "execution_count": 14,
   "metadata": {
    "execution": {
     "iopub.execute_input": "2025-02-13T19:19:13.932099Z",
     "iopub.status.busy": "2025-02-13T19:19:13.931776Z",
     "iopub.status.idle": "2025-02-13T19:19:15.294770Z",
     "shell.execute_reply": "2025-02-13T19:19:15.293786Z",
     "shell.execute_reply.started": "2025-02-13T19:19:13.932070Z"
    },
    "trusted": true
   },
   "outputs": [],
   "source": [
    "X_train, X_val = seleccionar_variables_pca(X_train_processed, X_val_processed, n_components=0.95, num_top_features=20)\n",
    "caracteristicas = X_train.columns.tolist()"
   ]
  },
  {
   "cell_type": "code",
   "execution_count": 15,
   "metadata": {
    "execution": {
     "iopub.execute_input": "2025-02-13T19:19:15.296162Z",
     "iopub.status.busy": "2025-02-13T19:19:15.295781Z",
     "iopub.status.idle": "2025-02-13T19:19:15.381707Z",
     "shell.execute_reply": "2025-02-13T19:19:15.380744Z",
     "shell.execute_reply.started": "2025-02-13T19:19:15.296116Z"
    },
    "trusted": true
   },
   "outputs": [
    {
     "name": "stdout",
     "output_type": "stream",
     "text": [
      "(574583, 34) (123125, 34)\n",
      "0 0\n",
      "class3\n",
      "0    0.5134\n",
      "1    0.4866\n",
      "Name: proportion, dtype: float64\n",
      "class3\n",
      "0    0.513405\n",
      "1    0.486595\n",
      "Name: proportion, dtype: float64\n"
     ]
    }
   ],
   "source": [
    "print(X_train.shape, X_val.shape)\n",
    "print(X_train.isnull().sum().sum(), X_val.isnull().sum().sum())\n",
    "print(y_train_class3.value_counts(normalize=True))\n",
    "print(y_val_class3.value_counts(normalize=True))"
   ]
  },
  {
   "cell_type": "code",
   "execution_count": 80,
   "metadata": {
    "execution": {
     "iopub.execute_input": "2025-02-13T19:50:54.438711Z",
     "iopub.status.busy": "2025-02-13T19:50:54.438399Z",
     "iopub.status.idle": "2025-02-13T19:50:54.654328Z",
     "shell.execute_reply": "2025-02-13T19:50:54.653632Z",
     "shell.execute_reply.started": "2025-02-13T19:50:54.438687Z"
    },
    "trusted": true
   },
   "outputs": [
    {
     "name": "stdout",
     "output_type": "stream",
     "text": [
      "Clase2 Encoded Train: [5 4 4 ... 4 4 4]\n",
      "Clase2 Mapping: {0: 'C&C', 1: 'Exfiltration', 2: 'Exploitation', 3: 'Lateral _movement', 4: 'Normal', 5: 'RDOS', 6: 'Reconnaissance', 7: 'Tampering', 8: 'Weaponization', 9: 'crypto-ransomware'}\n",
      "Clase1 Encoded Train: [12 11 11 ... 11 11 11]\n",
      "Clase1 Mapping: {0: 'BruteForce', 1: 'C&C', 2: 'Dictionary', 3: 'Discovering_resources', 4: 'Exfiltration', 5: 'Fake_notification', 6: 'False_data_injection', 7: 'Generic_scanning', 8: 'MQTT_cloud_broker_subscription', 9: 'MitM', 10: 'Modbus_register_reading', 11: 'Normal', 12: 'RDOS', 13: 'Reverse_shell', 14: 'Scanning_vulnerability', 15: 'TCP Relay', 16: 'crypto-ransomware', 17: 'fuzzing', 18: 'insider_malcious'}\n"
     ]
    }
   ],
   "source": [
    "from sklearn.preprocessing import LabelEncoder\n",
    "\n",
    "# Para clase2:\n",
    "label_encoder_class2 = LabelEncoder()\n",
    "y_train_class2_encoded = label_encoder_class2.fit_transform(y_train_class2)\n",
    "y_val_class2_encoded   = label_encoder_class2.transform(y_val_class2)\n",
    "mapping_class2 = dict(enumerate(label_encoder_class2.classes_))\n",
    "\n",
    "# Para clase1:\n",
    "label_encoder_class1 = LabelEncoder()\n",
    "y_train_class1_encoded = label_encoder_class1.fit_transform(y_train_class1)\n",
    "y_val_class1_encoded   = label_encoder_class1.transform(y_val_class1)\n",
    "mapping_class1 = dict(enumerate(label_encoder_class1.classes_))\n",
    "\n",
    "print(\"Clase2 Encoded Train:\", y_train_class2_encoded)\n",
    "print(\"Clase2 Mapping:\", mapping_class2)\n",
    "print(\"Clase1 Encoded Train:\", y_train_class1_encoded)\n",
    "print(\"Clase1 Mapping:\", mapping_class1)"
   ]
  },
  {
   "cell_type": "code",
   "execution_count": 81,
   "metadata": {
    "execution": {
     "iopub.execute_input": "2025-02-13T19:50:57.654290Z",
     "iopub.status.busy": "2025-02-13T19:50:57.653971Z",
     "iopub.status.idle": "2025-02-13T19:50:57.659127Z",
     "shell.execute_reply": "2025-02-13T19:50:57.658236Z",
     "shell.execute_reply.started": "2025-02-13T19:50:57.654248Z"
    },
    "trusted": true
   },
   "outputs": [
    {
     "name": "stdout",
     "output_type": "stream",
     "text": [
      "[5 4 4 ... 4 4 4]\n"
     ]
    }
   ],
   "source": [
    "print(y_train_class2_encoded)"
   ]
  },
  {
   "cell_type": "code",
   "execution_count": 83,
   "metadata": {
    "execution": {
     "iopub.execute_input": "2025-02-13T19:52:25.995661Z",
     "iopub.status.busy": "2025-02-13T19:52:25.995340Z",
     "iopub.status.idle": "2025-02-13T19:52:26.078852Z",
     "shell.execute_reply": "2025-02-13T19:52:26.077980Z",
     "shell.execute_reply.started": "2025-02-13T19:52:25.995638Z"
    },
    "trusted": true
   },
   "outputs": [],
   "source": [
    "input_dim = X_train.shape[1]  # Número de características de entrada\n",
    "num_classes_2 = len(set(y_train_class2_encoded))  # Cantidad de clases en y_class2\n",
    "num_classes_1 = len(set(y_train_class1_encoded))  # Cantidad de clases en y_class1"
   ]
  },
  {
   "cell_type": "code",
   "execution_count": null,
   "metadata": {
    "execution": {
     "iopub.execute_input": "2025-02-13T19:52:28.155523Z",
     "iopub.status.busy": "2025-02-13T19:52:28.155211Z",
     "iopub.status.idle": "2025-02-13T19:53:28.008174Z",
     "shell.execute_reply": "2025-02-13T19:53:28.007425Z",
     "shell.execute_reply.started": "2025-02-13T19:52:28.155495Z"
    },
    "trusted": true
   },
   "outputs": [
    {
     "name": "stdout",
     "output_type": "stream",
     "text": [
      "Epoch 1/10\n",
      "\u001b[1m2299/2299\u001b[0m \u001b[32m━━━━━━━━━━━━━━━━━━━━\u001b[0m\u001b[37m\u001b[0m \u001b[1m10s\u001b[0m 3ms/step - loss: 0.5874 - output_class1_accuracy: 0.9365 - output_class1_loss: 0.2533 - output_class2_accuracy: 0.9454 - output_class2_loss: 0.2093 - output_class3_accuracy: 0.9554 - output_class3_loss: 0.1249 - val_loss: 0.1551 - val_output_class1_accuracy: 0.9825 - val_output_class1_loss: 0.0540 - val_output_class2_accuracy: 0.9827 - val_output_class2_loss: 0.0552 - val_output_class3_accuracy: 0.9834 - val_output_class3_loss: 0.0458\n",
      "Epoch 2/10\n",
      "\u001b[1m2299/2299\u001b[0m \u001b[32m━━━━━━━━━━━━━━━━━━━━\u001b[0m\u001b[37m\u001b[0m \u001b[1m5s\u001b[0m 2ms/step - loss: 0.1575 - output_class1_accuracy: 0.9826 - output_class1_loss: 0.0569 - output_class2_accuracy: 0.9827 - output_class2_loss: 0.0550 - output_class3_accuracy: 0.9839 - output_class3_loss: 0.0456 - val_loss: 0.1312 - val_output_class1_accuracy: 0.9848 - val_output_class1_loss: 0.0462 - val_output_class2_accuracy: 0.9848 - val_output_class2_loss: 0.0453 - val_output_class3_accuracy: 0.9858 - val_output_class3_loss: 0.0397\n",
      "Epoch 3/10\n",
      "\u001b[1m2299/2299\u001b[0m \u001b[32m━━━━━━━━━━━━━━━━━━━━\u001b[0m\u001b[37m\u001b[0m \u001b[1m5s\u001b[0m 2ms/step - loss: 0.1351 - output_class1_accuracy: 0.9845 - output_class1_loss: 0.0478 - output_class2_accuracy: 0.9847 - output_class2_loss: 0.0474 - output_class3_accuracy: 0.9856 - output_class3_loss: 0.0399 - val_loss: 0.1325 - val_output_class1_accuracy: 0.9854 - val_output_class1_loss: 0.0470 - val_output_class2_accuracy: 0.9855 - val_output_class2_loss: 0.0455 - val_output_class3_accuracy: 0.9862 - val_output_class3_loss: 0.0399\n",
      "Epoch 4/10\n",
      "\u001b[1m2299/2299\u001b[0m \u001b[32m━━━━━━━━━━━━━━━━━━━━\u001b[0m\u001b[37m\u001b[0m \u001b[1m6s\u001b[0m 2ms/step - loss: 0.1272 - output_class1_accuracy: 0.9855 - output_class1_loss: 0.0456 - output_class2_accuracy: 0.9856 - output_class2_loss: 0.0445 - output_class3_accuracy: 0.9866 - output_class3_loss: 0.0372 - val_loss: 0.1274 - val_output_class1_accuracy: 0.9845 - val_output_class1_loss: 0.0461 - val_output_class2_accuracy: 0.9857 - val_output_class2_loss: 0.0446 - val_output_class3_accuracy: 0.9867 - val_output_class3_loss: 0.0365\n",
      "Epoch 5/10\n",
      "\u001b[1m2299/2299\u001b[0m \u001b[32m━━━━━━━━━━━━━━━━━━━━\u001b[0m\u001b[37m\u001b[0m \u001b[1m6s\u001b[0m 2ms/step - loss: 0.1141 - output_class1_accuracy: 0.9868 - output_class1_loss: 0.0405 - output_class2_accuracy: 0.9870 - output_class2_loss: 0.0394 - output_class3_accuracy: 0.9876 - output_class3_loss: 0.0341 - val_loss: 0.1236 - val_output_class1_accuracy: 0.9860 - val_output_class1_loss: 0.0435 - val_output_class2_accuracy: 0.9858 - val_output_class2_loss: 0.0437 - val_output_class3_accuracy: 0.9870 - val_output_class3_loss: 0.0362\n",
      "Epoch 6/10\n",
      "\u001b[1m2299/2299\u001b[0m \u001b[32m━━━━━━━━━━━━━━━━━━━━\u001b[0m\u001b[37m\u001b[0m \u001b[1m6s\u001b[0m 2ms/step - loss: 0.1052 - output_class1_accuracy: 0.9882 - output_class1_loss: 0.0374 - output_class2_accuracy: 0.9882 - output_class2_loss: 0.0361 - output_class3_accuracy: 0.9889 - output_class3_loss: 0.0317 - val_loss: 0.1030 - val_output_class1_accuracy: 0.9885 - val_output_class1_loss: 0.0357 - val_output_class2_accuracy: 0.9886 - val_output_class2_loss: 0.0358 - val_output_class3_accuracy: 0.9891 - val_output_class3_loss: 0.0314\n",
      "Epoch 7/10\n",
      "\u001b[1m2299/2299\u001b[0m \u001b[32m━━━━━━━━━━━━━━━━━━━━\u001b[0m\u001b[37m\u001b[0m \u001b[1m6s\u001b[0m 2ms/step - loss: 0.1043 - output_class1_accuracy: 0.9882 - output_class1_loss: 0.0363 - output_class2_accuracy: 0.9882 - output_class2_loss: 0.0372 - output_class3_accuracy: 0.9891 - output_class3_loss: 0.0307 - val_loss: 0.1071 - val_output_class1_accuracy: 0.9883 - val_output_class1_loss: 0.0373 - val_output_class2_accuracy: 0.9882 - val_output_class2_loss: 0.0365 - val_output_class3_accuracy: 0.9886 - val_output_class3_loss: 0.0332\n",
      "Epoch 8/10\n",
      "\u001b[1m2299/2299\u001b[0m \u001b[32m━━━━━━━━━━━━━━━━━━━━\u001b[0m\u001b[37m\u001b[0m \u001b[1m6s\u001b[0m 2ms/step - loss: 0.0970 - output_class1_accuracy: 0.9891 - output_class1_loss: 0.0343 - output_class2_accuracy: 0.9891 - output_class2_loss: 0.0335 - output_class3_accuracy: 0.9897 - output_class3_loss: 0.0292 - val_loss: 0.1315 - val_output_class1_accuracy: 0.9882 - val_output_class1_loss: 0.0478 - val_output_class2_accuracy: 0.9881 - val_output_class2_loss: 0.0486 - val_output_class3_accuracy: 0.9887 - val_output_class3_loss: 0.0350\n",
      "Epoch 9/10\n",
      "\u001b[1m2299/2299\u001b[0m \u001b[32m━━━━━━━━━━━━━━━━━━━━\u001b[0m\u001b[37m\u001b[0m \u001b[1m6s\u001b[0m 2ms/step - loss: 0.0964 - output_class1_accuracy: 0.9893 - output_class1_loss: 0.0346 - output_class2_accuracy: 0.9894 - output_class2_loss: 0.0331 - output_class3_accuracy: 0.9901 - output_class3_loss: 0.0286 - val_loss: 0.1093 - val_output_class1_accuracy: 0.9858 - val_output_class1_loss: 0.0428 - val_output_class2_accuracy: 0.9889 - val_output_class2_loss: 0.0364 - val_output_class3_accuracy: 0.9890 - val_output_class3_loss: 0.0301\n",
      "Epoch 10/10\n",
      "\u001b[1m2299/2299\u001b[0m \u001b[32m━━━━━━━━━━━━━━━━━━━━\u001b[0m\u001b[37m\u001b[0m \u001b[1m5s\u001b[0m 2ms/step - loss: 0.0935 - output_class1_accuracy: 0.9900 - output_class1_loss: 0.0326 - output_class2_accuracy: 0.9899 - output_class2_loss: 0.0327 - output_class3_accuracy: 0.9906 - output_class3_loss: 0.0281 - val_loss: 0.0986 - val_output_class1_accuracy: 0.9893 - val_output_class1_loss: 0.0337 - val_output_class2_accuracy: 0.9892 - val_output_class2_loss: 0.0341 - val_output_class3_accuracy: 0.9898 - val_output_class3_loss: 0.0306\n"
     ]
    }
   ],
   "source": [
    "from tensorflow import keras\n",
    "from tensorflow.keras import layers\n",
    "\n",
    "# Entrada\n",
    "input_layer = keras.Input(shape=(input_dim,))\n",
    "\n",
    "# Capas ocultas\n",
    "x = layers.Dense(200, activation='relu')(input_layer)\n",
    "x = layers.Dense(200, activation='relu')(x)\n",
    "x = layers.Dense(200, activation='relu')(x)\n",
    "\n",
    "# Salidas\n",
    "output_class3 = layers.Dense(1, activation='sigmoid', name=\"output_class3\")(x)  # Binaria\n",
    "output_class2 = layers.Dense(num_classes_2, activation='softmax', name=\"output_class2\")(x)  # Multiclase\n",
    "output_class1 = layers.Dense(num_classes_1, activation='softmax', name=\"output_class1\")(x)  # Multiclase\n",
    "\n",
    "# Modelo con dos salidas\n",
    "model = keras.Model(inputs=input_layer, outputs=[output_class3, output_class2, output_class1])\n",
    "\n",
    "# Compilar el modelo\n",
    "model.compile(optimizer=keras.optimizers.RMSprop(),\n",
    "              loss=['binary_crossentropy', 'sparse_categorical_crossentropy', 'sparse_categorical_crossentropy'],\n",
    "              metrics=['accuracy', 'accuracy', 'accuracy'])\n",
    "\n",
    "# Entrenar el modelo\n",
    "history = model.fit(X_train,\n",
    "                    [y_train_class3, y_train_class2_encoded, y_train_class1_encoded],\n",
    "                    batch_size=250,\n",
    "                    epochs=10,\n",
    "                    validation_data=(X_val, [y_val_class3, y_val_class2_encoded, y_val_class1_encoded]))\n"
   ]
  },
  {
   "cell_type": "code",
   "execution_count": 85,
   "metadata": {
    "execution": {
     "iopub.execute_input": "2025-02-13T19:53:53.786012Z",
     "iopub.status.busy": "2025-02-13T19:53:53.785660Z",
     "iopub.status.idle": "2025-02-13T19:54:02.505187Z",
     "shell.execute_reply": "2025-02-13T19:54:02.504247Z",
     "shell.execute_reply.started": "2025-02-13T19:53:53.785977Z"
    },
    "trusted": true
   },
   "outputs": [
    {
     "name": "stdout",
     "output_type": "stream",
     "text": [
      "\u001b[1m3848/3848\u001b[0m \u001b[32m━━━━━━━━━━━━━━━━━━━━\u001b[0m\u001b[37m\u001b[0m \u001b[1m5s\u001b[0m 1ms/step\n",
      "['Lateral _movement' 'Normal' 'Reconnaissance' ... 'Normal' 'RDOS' 'RDOS']\n"
     ]
    }
   ],
   "source": [
    "# Predicción para salida de clase2\n",
    "pred_class2 = model.predict(X_val)[1]\n",
    "predicted_indices = np.argmax(pred_class2, axis=1)\n",
    "predicted_names = label_encoder_class2.inverse_transform(predicted_indices)\n",
    "print(predicted_names)"
   ]
  },
  {
   "cell_type": "code",
   "execution_count": null,
   "metadata": {
    "execution": {
     "iopub.execute_input": "2025-02-13T19:54:02.506666Z",
     "iopub.status.busy": "2025-02-13T19:54:02.506406Z",
     "iopub.status.idle": "2025-02-13T19:54:10.612849Z",
     "shell.execute_reply": "2025-02-13T19:54:10.611918Z",
     "shell.execute_reply.started": "2025-02-13T19:54:02.506645Z"
    },
    "trusted": true
   },
   "outputs": [
    {
     "name": "stdout",
     "output_type": "stream",
     "text": [
      "\u001b[1m3848/3848\u001b[0m \u001b[32m━━━━━━━━━━━━━━━━━━━━\u001b[0m\u001b[37m\u001b[0m \u001b[1m4s\u001b[0m 1ms/step\n",
      "['Discovering_resources' 'Exfiltration' 'False_data_injection' ...\n",
      " 'Exfiltration' 'Fake_notification' 'Fake_notification']\n"
     ]
    }
   ],
   "source": [
    "# Predicción para salida de clase1\n",
    "pred_class1 = model.predict(X_val)[1]\n",
    "predicted_indices = np.argmax(pred_class1, axis=1)\n",
    "predicted_names = label_encoder_class1.inverse_transform(predicted_indices)\n",
    "print(predicted_names)"
   ]
  },
  {
   "cell_type": "code",
   "execution_count": 61,
   "metadata": {
    "execution": {
     "iopub.execute_input": "2025-02-13T19:36:52.692780Z",
     "iopub.status.busy": "2025-02-13T19:36:52.692482Z",
     "iopub.status.idle": "2025-02-13T19:36:58.275550Z",
     "shell.execute_reply": "2025-02-13T19:36:58.274845Z",
     "shell.execute_reply.started": "2025-02-13T19:36:52.692758Z"
    },
    "trusted": true
   },
   "outputs": [],
   "source": [
    "X_test = replace_common_values(X_test)\n",
    "X_test = fix_mayus(X_test)\n",
    "X_test = fix_dtype(X_test)\n",
    "X_test = delete_ip_port(X_test)\n",
    "\n",
    "y_test_class3 = y_test_class3.loc[X_test.index]\n",
    "\n",
    "X_test['Protocol'] = X_test['Protocol'].fillna(\"missing\")"
   ]
  },
  {
   "cell_type": "code",
   "execution_count": 62,
   "metadata": {
    "execution": {
     "iopub.execute_input": "2025-02-13T19:36:58.276754Z",
     "iopub.status.busy": "2025-02-13T19:36:58.276536Z",
     "iopub.status.idle": "2025-02-13T19:36:59.309775Z",
     "shell.execute_reply": "2025-02-13T19:36:59.309046Z",
     "shell.execute_reply.started": "2025-02-13T19:36:58.276735Z"
    },
    "trusted": true
   },
   "outputs": [],
   "source": [
    "# Identificar columnas categóricas, numéricas y booleanas\n",
    "categorical_cols = X_test.select_dtypes(include=['object']).columns\n",
    "boolean_cols = X_test.select_dtypes(include=['bool']).columns\n",
    "if boolean_cols.any():  # Si hay columnas booleanas\n",
    "    X_test[boolean_cols] = X_test[boolean_cols].astype(float) # TAL VEZ INNCESESARIO\n",
    "numerical_cols = X_test.select_dtypes(include=['float64', 'int64']).columns\n",
    "\n",
    "##############################################################################\n",
    "\n",
    "X_test[categorical_cols] = imputador_cat.fit_transform(X_test[categorical_cols])\n",
    "\n",
    "X_test[numerical_cols] = imputador_num.fit_transform(X_test[numerical_cols])\n",
    "\n",
    "##############################################################################\n",
    "\n",
    "X_test_scaled = normalizacion.fit_transform(X_test[numerical_cols])\n",
    "\n",
    "# Convertir las matrices escaladas a DataFrames\n",
    "X_test_scaled_df = pd.DataFrame(X_test_scaled, columns=[f\"{col}_scaled\" for col in numerical_cols], index=X_test.index)\n",
    "\n",
    "##############################################################################\n",
    "\n",
    "X_test_encoded = decodificador.fit_transform(X_test[categorical_cols])\n",
    "\n",
    "# Obtener los nombres de las nuevas columnas codificadas\n",
    "encoded_cols = decodificador.get_feature_names_out(categorical_cols)\n",
    "\n",
    "# Convertir las matrices codificadas a DataFrames\n",
    "X_test_encoded_df = pd.DataFrame(X_test_encoded, columns=encoded_cols, index=X_test.index)\n",
    "\n",
    "##############################################################################\n",
    "\n",
    "# Combinar con las características categóricas codificadas\n",
    "X_test_processed = pd.concat([X_test_scaled_df, X_test_encoded_df], axis=1)\n",
    "\n",
    "# Opcional: Reordenar las columnas si es necesario\n",
    "X_test_processed = X_test_processed.reindex(sorted(X_test_processed.columns), axis=1)\n",
    "\n",
    "X_test = X_test_processed[caracteristicas]"
   ]
  },
  {
   "cell_type": "code",
   "execution_count": 87,
   "metadata": {
    "execution": {
     "iopub.execute_input": "2025-02-13T19:54:10.710933Z",
     "iopub.status.busy": "2025-02-13T19:54:10.710689Z",
     "iopub.status.idle": "2025-02-13T19:54:10.749311Z",
     "shell.execute_reply": "2025-02-13T19:54:10.748658Z",
     "shell.execute_reply.started": "2025-02-13T19:54:10.710910Z"
    },
    "trusted": true
   },
   "outputs": [
    {
     "name": "stdout",
     "output_type": "stream",
     "text": [
      "Clase2 Encoded Test: [4 6 4 ... 8 6 5]\n",
      "Clase1 Encoded Test: [11  7 11 ...  0 14 12]\n"
     ]
    }
   ],
   "source": [
    "# Test:\n",
    "y_test_class2_encoded = label_encoder_class2.transform(y_test_class2)\n",
    "y_test_class1_encoded = label_encoder_class1.transform(y_test_class1)\n",
    "\n",
    "print(\"Clase2 Encoded Test:\", y_test_class2_encoded)\n",
    "print(\"Clase1 Encoded Test:\", y_test_class1_encoded)"
   ]
  },
  {
   "cell_type": "code",
   "execution_count": 90,
   "metadata": {
    "execution": {
     "iopub.execute_input": "2025-02-13T19:56:02.625443Z",
     "iopub.status.busy": "2025-02-13T19:56:02.625149Z",
     "iopub.status.idle": "2025-02-13T19:56:17.348977Z",
     "shell.execute_reply": "2025-02-13T19:56:17.348274Z",
     "shell.execute_reply.started": "2025-02-13T19:56:02.625420Z"
    },
    "trusted": true
   },
   "outputs": [
    {
     "name": "stdout",
     "output_type": "stream",
     "text": [
      "\u001b[1m3848/3848\u001b[0m \u001b[32m━━━━━━━━━━━━━━━━━━━━\u001b[0m\u001b[37m\u001b[0m \u001b[1m6s\u001b[0m 2ms/step - loss: 0.0986 - output_class1_accuracy: 0.9894 - output_class1_loss: 0.0344 - output_class2_accuracy: 0.9892 - output_class2_loss: 0.0336 - output_class3_accuracy: 0.9900 - output_class3_loss: 0.0306\n",
      "\u001b[1m3848/3848\u001b[0m \u001b[32m━━━━━━━━━━━━━━━━━━━━\u001b[0m\u001b[37m\u001b[0m \u001b[1m5s\u001b[0m 1ms/step\n",
      "Accuracy: 0.989214301109314\n",
      "Precision: 0.9921990336867534\n",
      "Recall: 0.9871480313120692\n",
      "F1-score: 0.9896670877921036\n"
     ]
    },
    {
     "data": {
      "image/png": "[encoded data removed]",
      "text/plain": [
       "<Figure size 640x480 with 1 Axes>"
      ]
     },
     "metadata": {},
     "output_type": "display_data"
    }
   ],
   "source": [
    "import matplotlib.pyplot as plt\n",
    "from sklearn.metrics import classification_report\n",
    "from sklearn.metrics import precision_score, recall_score, f1_score\n",
    "\n",
    "# Evaluar en test (se deben pasar las 3 salidas)\n",
    "total_loss, loss_class3, loss_class2, loss_class1, test_acc3, test_acc2, test_acc1 = model.evaluate(\n",
    "    X_test, [y_test_class3, y_test_class2_encoded, y_test_class1_encoded], verbose=1)\n",
    "\n",
    "# Predecir y obtener la salida binaria (output_class3)\n",
    "y_pred_probs = model.predict(X_test)[0]\n",
    "y_pred = (y_pred_probs > 0.5).astype(\"int32\")\n",
    "\n",
    "precision = precision_score(y_test_class3, y_pred)\n",
    "recall = recall_score(y_test_class3, y_pred)\n",
    "f1 = f1_score(y_test_class3, y_pred)\n",
    "\n",
    "print(\"Accuracy:\", test_acc3)\n",
    "print(\"Precision:\", precision)\n",
    "print(\"Recall:\", recall)\n",
    "print(\"F1-score:\", f1)\n",
    "\n",
    "# Graficar la precisión de output_class3\n",
    "plt.plot(history.history['output_class3_accuracy'], label='Entrenamiento')\n",
    "plt.plot(history.history['val_output_class3_accuracy'], label='Validación')\n",
    "plt.axhline(y=test_acc3, color='r', linestyle='--', label='Test')\n",
    "plt.xlabel('Épocas')\n",
    "plt.ylabel('Precisión')\n",
    "plt.legend()\n",
    "plt.show()\n"
   ]
  }
 ],
 "metadata": {
  "kaggle": {
   "accelerator": "nvidiaTeslaT4",
   "dataSources": [
    {
     "datasetId": 6649121,
     "sourceId": 10725550,
     "sourceType": "datasetVersion"
    }
   ],
   "dockerImageVersionId": 30887,
   "isGpuEnabled": true,
   "isInternetEnabled": true,
   "language": "python",
   "sourceType": "notebook"
  },
  "kernelspec": {
   "display_name": "Python 3",
   "language": "python",
   "name": "python3"
  },
  "language_info": {
   "codemirror_mode": {
    "name": "ipython",
    "version": 3
   },
   "file_extension": ".py",
   "mimetype": "text/x-python",
   "name": "python",
   "nbconvert_exporter": "python",
   "pygments_lexer": "ipython3",
   "version": "3.10.12"
  }
 },
 "nbformat": 4,
 "nbformat_minor": 4
}
